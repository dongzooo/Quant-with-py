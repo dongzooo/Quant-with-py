{
  "nbformat": 4,
  "nbformat_minor": 0,
  "metadata": {
    "colab": {
      "provenance": [],
      "include_colab_link": true
    },
    "kernelspec": {
      "name": "python3",
      "display_name": "Python 3"
    },
    "language_info": {
      "name": "python"
    }
  },
  "cells": [
    {
      "cell_type": "markdown",
      "metadata": {
        "id": "view-in-github",
        "colab_type": "text"
      },
      "source": [
        "<a href=\"https://colab.research.google.com/github/dongzooo/Quant-with-py/blob/main/1_%ED%8F%AC%ED%8A%B8%ED%8F%B4%EB%A6%AC%EC%98%A4%20%EB%AA%A8%EB%8D%B8%EB%A7%81(yfinance)/4_%EC%8B%9C%EC%9E%A5_%ED%8F%AC%ED%8A%B8%ED%8F%B4%EB%A6%AC%EC%98%A4_%EA%B5%AC%ED%98%84.ipynb\" target=\"_parent\"><img src=\"https://colab.research.google.com/assets/colab-badge.svg\" alt=\"Open In Colab\"/></a>"
      ]
    },
    {
      "cell_type": "code",
      "execution_count": null,
      "metadata": {
        "id": "3u4vmdxrtpPA",
        "colab": {
          "base_uri": "https://localhost:8080/"
        },
        "outputId": "2efd0578-4aff-4920-aafb-7bc7a0aed283"
      },
      "outputs": [
        {
          "output_type": "stream",
          "name": "stdout",
          "text": [
            "\u001b[2K     \u001b[90m━━━━━━━━━━━━━━━━━━━━━━━━━━━━━━━━━━━━━━━━\u001b[0m \u001b[32m55.9/55.9 KB\u001b[0m \u001b[31m1.5 MB/s\u001b[0m eta \u001b[36m0:00:00\u001b[0m\n",
            "\u001b[2K     \u001b[90m━━━━━━━━━━━━━━━━━━━━━━━━━━━━━━━━━━━━━━━\u001b[0m \u001b[32m129.4/129.4 KB\u001b[0m \u001b[31m5.0 MB/s\u001b[0m eta \u001b[36m0:00:00\u001b[0m\n",
            "\u001b[2K     \u001b[90m━━━━━━━━━━━━━━━━━━━━━━━━━━━━━━━━━━━━━━━━\u001b[0m \u001b[32m4.2/4.2 MB\u001b[0m \u001b[31m36.3 MB/s\u001b[0m eta \u001b[36m0:00:00\u001b[0m\n",
            "\u001b[2K     \u001b[90m━━━━━━━━━━━━━━━━━━━━━━━━━━━━━━━━━━━━━━━\u001b[0m \u001b[32m111.0/111.0 KB\u001b[0m \u001b[31m6.9 MB/s\u001b[0m eta \u001b[36m0:00:00\u001b[0m\n",
            "\u001b[2K     \u001b[90m━━━━━━━━━━━━━━━━━━━━━━━━━━━━━━━━━━━━━━━\u001b[0m \u001b[32m112.2/112.2 KB\u001b[0m \u001b[31m6.4 MB/s\u001b[0m eta \u001b[36m0:00:00\u001b[0m\n",
            "\u001b[2K     \u001b[90m━━━━━━━━━━━━━━━━━━━━━━━━━━━━━━━━━━━━━━━━\u001b[0m \u001b[32m62.8/62.8 KB\u001b[0m \u001b[31m2.1 MB/s\u001b[0m eta \u001b[36m0:00:00\u001b[0m\n",
            "\u001b[?25h"
          ]
        }
      ],
      "source": [
        "# yfinance 패키지 설치\n",
        "!pip install yfinance --quiet"
      ]
    },
    {
      "cell_type": "code",
      "source": [
        "# 패키지 임포트: numpy, pandas, matplotlib, seaborn, yfinance, scipy\n",
        "import numpy as np\n",
        "import pandas as pd\n",
        "import matplotlib.pyplot as plt\n",
        "import seaborn as sns\n",
        "import yfinance as yf\n",
        "import scipy.optimize as sco\n",
        "\n",
        "# seaborn 세팅하기\n",
        "sns.set()"
      ],
      "metadata": {
        "id": "n9yYDfVTt1cl"
      },
      "execution_count": null,
      "outputs": []
    },
    {
      "cell_type": "markdown",
      "source": [
        "### ETF 가격 데이터 다운로드"
      ],
      "metadata": {
        "id": "jDBt5RGfuga5"
      }
    },
    {
      "cell_type": "code",
      "source": [
        "# 티커 리스트 정의\n",
        "tickers = ['XLB', 'XLE', 'XLF', 'XLI', 'XLK', 'XLP', 'XLU', 'XLV', 'XLY']\n",
        "\n",
        "# etf 객체 정의\n",
        "etf = yf.Tickers(tickers)\n",
        "\n",
        "# ETF 시계열 가격 데이터 다운로드\n",
        "data = etf.history(start='2011-01-01', actions=False)\n",
        "\n",
        "# 종가 이외의 데이터 제거\n",
        "data.drop(['Open', 'High', 'Low', 'Volume'], inplace=True, axis=1)\n",
        "\n",
        "# 열 이름 레벨 다운그레이드\n",
        "data = data.droplevel(0, axis=1)"
      ],
      "metadata": {
        "id": "uKNvdkgRmPqL",
        "colab": {
          "base_uri": "https://localhost:8080/"
        },
        "outputId": "d91ef749-da3d-45a4-f617-37e29374373d"
      },
      "execution_count": null,
      "outputs": [
        {
          "output_type": "stream",
          "name": "stdout",
          "text": [
            "[*********************100%***********************]  9 of 9 completed\n"
          ]
        }
      ]
    },
    {
      "cell_type": "code",
      "source": [
        "# 수익률 데이터\n",
        "rets = data.pct_change().fillna(0)\n",
        "\n",
        "# 기대수익률 계산\n",
        "er = rets.mean() * 252\n",
        "\n",
        "# 공분산행렬 계산\n",
        "cov = rets.cov() * 252"
      ],
      "metadata": {
        "id": "zvnGJ4mVukwG"
      },
      "execution_count": null,
      "outputs": []
    },
    {
      "cell_type": "markdown",
      "source": [
        "### 샤프비율 최대화 포트폴리오"
      ],
      "metadata": {
        "id": "OyHt-_TfuDcX"
      }
    },
    {
      "cell_type": "code",
      "source": [
        "# 샤프비율 최대화 포트폴리오 가중치 산출 함수 구현\n",
        "def get_msr_weights(er, cov):\n",
        "\n",
        "    # 자산개수\n",
        "    noa = er.shape[0]\n",
        "\n",
        "    # 가중치 초기값\n",
        "    init_guess = np.repeat(1/noa, noa)\n",
        "\n",
        "    # 자산 가중치 상하한\n",
        "    bounds = ((0.0, 1.0), ) * noa\n",
        "\n",
        "    # 레버리지 불가 제약조건\n",
        "    weights_sum_to_1 = {'type': 'eq',\n",
        "                        'fun': lambda weights: np.sum(weights) - 1}\n",
        "\n",
        "    # 목적함수\n",
        "    def neg_sharpe(weights, er, cov):\n",
        "        r = weights.T @ er\n",
        "        vol = np.sqrt(weights.T @ cov @ weights)\n",
        "        return - r / vol\n",
        "\n",
        "    # 최적화 수행\n",
        "    res = sco.minimize(neg_sharpe,\n",
        "                       init_guess,\n",
        "                       args=(er, cov),\n",
        "                       method='SLSQP',\n",
        "                       constraints=(weights_sum_to_1,),\n",
        "                       bounds=bounds)\n",
        "    \n",
        "    return res.x"
      ],
      "metadata": {
        "id": "CZAv0KiZt2f_"
      },
      "execution_count": null,
      "outputs": []
    },
    {
      "cell_type": "code",
      "source": [
        "# MSR 포트폴리오 가중치\n",
        "msr_weights = get_msr_weights(er, cov)\n",
        "\n",
        "# MSR 포트폴리오 수익률\n",
        "msr_ret = np.dot(msr_weights, er)\n",
        "\n",
        "# MSR 포트폴리오 변동성\n",
        "msr_vol = np.sqrt(np.dot(msr_weights.T, np.dot(cov, msr_weights)))\n",
        "\n",
        "print('Return = {}'.format(msr_ret))\n",
        "print('Volatility = {}'.format(msr_vol))"
      ],
      "metadata": {
        "id": "W1jVgPv2uJCR",
        "colab": {
          "base_uri": "https://localhost:8080/"
        },
        "outputId": "e975f498-19c3-4841-f2ee-3ef35cc6c5b5"
      },
      "execution_count": null,
      "outputs": [
        {
          "output_type": "stream",
          "name": "stdout",
          "text": [
            "Return = 0.1477094615575011\n",
            "Volatility = 0.158067328537797\n"
          ]
        }
      ]
    },
    {
      "cell_type": "code",
      "source": [
        "# 시장 포트폴리오 가중치 시각화\n",
        "msr_weights_series = pd.Series(np.round(msr_weights, 4) * 100, index=tickers)\n",
        "msr_weights_series.plot.bar()"
      ],
      "metadata": {
        "id": "bcPE3DUlvQI7",
        "colab": {
          "base_uri": "https://localhost:8080/",
          "height": 296
        },
        "outputId": "82f87989-54fa-4250-c0d7-37ca5d171c54"
      },
      "execution_count": null,
      "outputs": [
        {
          "output_type": "execute_result",
          "data": {
            "text/plain": [
              "<matplotlib.axes._subplots.AxesSubplot at 0x7fe64dc609d0>"
            ]
          },
          "metadata": {},
          "execution_count": 7
        },
        {
          "output_type": "display_data",
          "data": {
            "text/plain": [
              "<Figure size 432x288 with 1 Axes>"
            ],
            "image/png": "[encoded data removed]"
          },
          "metadata": {}
        }
      ]
    },
    {
      "cell_type": "code",
      "source": [
        "# 시장 포트폴리오 수익률과 변동성\n"
      ],
      "metadata": {
        "id": "A5ezwq6LXPcP"
      },
      "execution_count": null,
      "outputs": []
    },
    {
      "cell_type": "markdown",
      "source": [
        "### 자본시장선 구현"
      ],
      "metadata": {
        "id": "YaMIqDkot4e1"
      }
    },
    {
      "cell_type": "code",
      "source": [
        "# 포트폴리오 통계치 계산 함수\n",
        "def statistics(weights):\n",
        "    weights = np.array(weights)\n",
        "    pret = np.sum(er * weights)\n",
        "    pvol = np.sqrt(np.dot(weights.T, np.dot(cov, weights)))\n",
        "    return np.array([pret, pvol, pret/pvol])\n",
        "\n",
        "# 목적함수 정의\n",
        "def obj_func(weights):\n",
        "    return statistics(weights)[1]"
      ],
      "metadata": {
        "id": "ubJJ05nNu61i"
      },
      "execution_count": null,
      "outputs": []
    },
    {
      "cell_type": "code",
      "source": [
        "# 자산의 개수\n",
        "noa = len(tickers)\n",
        "\n",
        "# 수익률 수준별 포트폴리오 최적화 수행\n",
        "trets = np.linspace(0.1, 0.15, 50)\n",
        "tvols = []\n",
        "\n",
        "for tret in trets:\n",
        "\n",
        "    # 가중치 초기값\n",
        "    init_guess = np.repeat(1/noa, noa)\n",
        "\n",
        "    # 제약조건\n",
        "    cons = ({'type': 'eq', 'fun': lambda x: statistics(x)[0] - tret},\n",
        "            {'type': 'eq', 'fun': lambda x: np.sum(x) - 1})\n",
        "    \n",
        "    # 자산 가중치 상하한\n",
        "    bnds = ((0.0, 1.0), ) * noa\n",
        "\n",
        "    # 최적화 수행\n",
        "    res = sco.minimize(obj_func,\n",
        "                       init_guess,\n",
        "                       method='SLSQP',\n",
        "                       bounds=bnds,\n",
        "                       constraints=cons)\n",
        "\n",
        "    tvols.append(res['fun'])\n",
        "\n",
        "tvols = np.array(tvols)"
      ],
      "metadata": {
        "id": "uCtvPtnru2Xo"
      },
      "execution_count": null,
      "outputs": []
    },
    {
      "cell_type": "code",
      "source": [
        "# 좌측 경계선 데이터 수집\n",
        "ind = np.argmin(tvols)\n",
        "evols = tvols[ind:]\n",
        "erets = trets[ind:]"
      ],
      "metadata": {
        "id": "5NDJmDFpu0h0"
      },
      "execution_count": null,
      "outputs": []
    },
    {
      "cell_type": "code",
      "source": [
        "evols[-1]"
      ],
      "metadata": {
        "id": "_s0bu9TPR6V0",
        "colab": {
          "base_uri": "https://localhost:8080/"
        },
        "outputId": "65f5dd97-40cc-4fd3-e774-226e6ea07ae4"
      },
      "execution_count": null,
      "outputs": [
        {
          "output_type": "execute_result",
          "data": {
            "text/plain": [
              "0.16058492008182595"
            ]
          },
          "metadata": {},
          "execution_count": 12
        }
      ]
    },
    {
      "cell_type": "code",
      "source": [
        "# 자본시장선 데이터\n",
        "x = np.linspace(0.1, evols[-1], 100)\n",
        "y = (msr_ret / msr_vol) * x\n",
        "\n",
        "# 효율적 경계선 및 자본시장선 시각화\n",
        "plt.figure(figsize=(15, 8))\n",
        "\n",
        "plt.scatter(tvols, trets, c=trets/tvols, marker='x')\n",
        "plt.plot(evols, erets, 'tab:red', lw=2.0)\n",
        "\n",
        "# 시장 포트폴리오\n",
        "plt.scatter(msr_vol, msr_ret, marker='*', s=400, color='tab:green')\n",
        "\n",
        "# 자본시장선\n",
        "plt.plot(x, y, 'tab:blue')\n",
        "\n",
        "plt.grid(True)\n",
        "\n",
        "plt.xlabel('Expected Volatility')\n",
        "plt.ylabel('Expected Return')\n",
        "\n",
        "plt.title('Market Portfolio & Capital Market Line')\n"
      ],
      "metadata": {
        "id": "dK6XhMzruri5",
        "colab": {
          "base_uri": "https://localhost:8080/",
          "height": 535
        },
        "outputId": "1cd11951-c30a-4ad5-c985-5bf70beabaa7"
      },
      "execution_count": null,
      "outputs": [
        {
          "output_type": "execute_result",
          "data": {
            "text/plain": [
              "Text(0.5, 1.0, 'Market Portfolio & Capital Market Line')"
            ]
          },
          "metadata": {},
          "execution_count": 13
        },
        {
          "output_type": "display_data",
          "data": {
            "text/plain": [
              "<Figure size 1080x576 with 1 Axes>"
            ],
            "image/png": "[encoded data removed]"
          },
          "metadata": {}
        }
      ]
    },
    {
      "cell_type": "code",
      "source": [],
      "metadata": {
        "id": "uM6YVkLf6wok"
      },
      "execution_count": null,
      "outputs": []
    }
  ]
}