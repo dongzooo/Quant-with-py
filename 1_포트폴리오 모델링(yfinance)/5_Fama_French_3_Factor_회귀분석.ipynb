{
  "nbformat": 4,
  "nbformat_minor": 0,
  "metadata": {
    "colab": {
      "provenance": [],
      "include_colab_link": true
    },
    "kernelspec": {
      "name": "python3",
      "display_name": "Python 3"
    },
    "language_info": {
      "name": "python"
    }
  },
  "cells": [
    {
      "cell_type": "markdown",
      "metadata": {
        "id": "view-in-github",
        "colab_type": "text"
      },
      "source": [
        "<a href=\"https://colab.research.google.com/github/dongzooo/Quant-with-py/blob/main/1_%ED%8F%AC%ED%8A%B8%ED%8F%B4%EB%A6%AC%EC%98%A4%20%EB%AA%A8%EB%8D%B8%EB%A7%81(yfinance)/5_Fama_French_3_Factor_%ED%9A%8C%EA%B7%80%EB%B6%84%EC%84%9D.ipynb\" target=\"_parent\"><img src=\"https://colab.research.google.com/assets/colab-badge.svg\" alt=\"Open In Colab\"/></a>"
      ]
    },
    {
      "cell_type": "code",
      "source": [
        "# yfinance, getFamaFrenchFactors 패키지 설치\n",
        "!pip install yfinance --quiet\n",
        "!pip install getFamaFrenchFactors --quiet"
      ],
      "metadata": {
        "id": "dk2anCSBX-xS",
        "colab": {
          "base_uri": "https://localhost:8080/"
        },
        "outputId": "a6bd8c8e-f294-4a2e-ed5c-4fd95cdcc12c"
      },
      "execution_count": null,
      "outputs": [
        {
          "output_type": "stream",
          "name": "stdout",
          "text": [
            "\u001b[2K     \u001b[90m━━━━━━━━━━━━━━━━━━━━━━━━━━━━━━━━━━━━━━━━\u001b[0m \u001b[32m55.9/55.9 KB\u001b[0m \u001b[31m1.6 MB/s\u001b[0m eta \u001b[36m0:00:00\u001b[0m\n",
            "\u001b[2K     \u001b[90m━━━━━━━━━━━━━━━━━━━━━━━━━━━━━━━━━━━━━━━\u001b[0m \u001b[32m112.2/112.2 KB\u001b[0m \u001b[31m5.3 MB/s\u001b[0m eta \u001b[36m0:00:00\u001b[0m\n",
            "\u001b[2K     \u001b[90m━━━━━━━━━━━━━━━━━━━━━━━━━━━━━━━━━━━━━━━\u001b[0m \u001b[32m129.4/129.4 KB\u001b[0m \u001b[31m7.0 MB/s\u001b[0m eta \u001b[36m0:00:00\u001b[0m\n",
            "\u001b[2K     \u001b[90m━━━━━━━━━━━━━━━━━━━━━━━━━━━━━━━━━━━━━━━━\u001b[0m \u001b[32m62.8/62.8 KB\u001b[0m \u001b[31m4.0 MB/s\u001b[0m eta \u001b[36m0:00:00\u001b[0m\n",
            "\u001b[2K     \u001b[90m━━━━━━━━━━━━━━━━━━━━━━━━━━━━━━━━━━━━━━━━\u001b[0m \u001b[32m4.2/4.2 MB\u001b[0m \u001b[31m31.9 MB/s\u001b[0m eta \u001b[36m0:00:00\u001b[0m\n",
            "\u001b[2K     \u001b[90m━━━━━━━━━━━━━━━━━━━━━━━━━━━━━━━━━━━━━━━\u001b[0m \u001b[32m111.0/111.0 KB\u001b[0m \u001b[31m1.5 MB/s\u001b[0m eta \u001b[36m0:00:00\u001b[0m\n",
            "\u001b[?25h"
          ]
        }
      ]
    },
    {
      "cell_type": "code",
      "execution_count": null,
      "metadata": {
        "id": "lWI-48pbX7TS"
      },
      "outputs": [],
      "source": [
        "# 패키지 임포트: pandas, statsmodels, yfinance, getFamaFrenchFactors\n",
        "import pandas as pd\n",
        "import yfinance as yf\n",
        "import statsmodels.api as sm\n",
        "import getFamaFrenchFactors as gff"
      ]
    },
    {
      "cell_type": "markdown",
      "source": [
        "### 애플 과거 주가 데이터 다운로드"
      ],
      "metadata": {
        "id": "ptHn06fOm65q"
      }
    },
    {
      "cell_type": "code",
      "source": [
        "# 주가 데이터 다운로드\n",
        "# 애플 주식 티커\n",
        "ticker = 'AAPL'\n",
        "\n",
        "# 데이터 시작일과 종료일\n",
        "start = '2000-01-01'\n",
        "end = '2022-10-12'\n",
        "\n",
        "# 데이터 다운로드\n",
        "# stock_data = yf.download(ticker, start, end, adjusted=True)\n",
        "stock_data = yf.download(ticker, start, end)\n",
        "\n",
        "# 주가 수익률 계산\n",
        "stock_returns = stock_data['Adj Close'].resample('M').last().pct_change().dropna() #팩터데이터 Monthly기 떄문에 resample을 m으로 한다.\n",
        "stock_returns.name = 'Month_Rtn'\n",
        "stock_returns.index = pd.to_datetime(stock_returns.index).date"
      ],
      "metadata": {
        "id": "gDVgQZBFm4-E",
        "colab": {
          "base_uri": "https://localhost:8080/"
        },
        "outputId": "fb5a04ab-c039-4d31-a0d8-6a5ef8e2103b"
      },
      "execution_count": null,
      "outputs": [
        {
          "output_type": "stream",
          "name": "stdout",
          "text": [
            "\r[*********************100%***********************]  1 of 1 completed\n"
          ]
        }
      ]
    },
    {
      "cell_type": "code",
      "source": [
        "stock_returns"
      ],
      "metadata": {
        "id": "vsPIvU8aUspK",
        "colab": {
          "base_uri": "https://localhost:8080/"
        },
        "outputId": "b6472102-a840-4ca0-f26c-ed2866e6e24e"
      },
      "execution_count": null,
      "outputs": [
        {
          "output_type": "execute_result",
          "data": {
            "text/plain": [
              "2000-02-29    0.104820\n",
              "2000-03-31    0.184842\n",
              "2000-04-30   -0.086517\n",
              "2000-05-31   -0.322922\n",
              "2000-06-30    0.247024\n",
              "                ...   \n",
              "2022-06-30   -0.081430\n",
              "2022-07-31    0.188634\n",
              "2022-08-31   -0.031208\n",
              "2022-09-30   -0.120977\n",
              "2022-10-31    0.005644\n",
              "Name: Month_Rtn, Length: 273, dtype: float64"
            ]
          },
          "metadata": {},
          "execution_count": 6
        }
      ]
    },
    {
      "cell_type": "markdown",
      "source": [
        "### 파마-프렌치 3 팩터 데이터 다운로드"
      ],
      "metadata": {
        "id": "L491q6M6nSPw"
      }
    },
    {
      "cell_type": "code",
      "source": [
        "# 파마-프렌치 3 팩터 데이터 다운로드\n",
        "ff3_monthly = gff.famaFrench3Factor(frequency='m')\n",
        "ff3_monthly.rename(columns={'date_ff_factors': 'Date'}, inplace=True)\n",
        "ff3_monthly.set_index('Date', inplace=True)\n",
        "ff3_monthly.index = pd.to_datetime(ff3_monthly.index).date\n",
        "\n",
        "# 팩터 데이터와 주가 데이터 병합\n",
        "ff_data = pd.concat([ff3_monthly, stock_returns], axis=1, join='inner')"
      ],
      "metadata": {
        "id": "oYAtWJK3nZqs"
      },
      "execution_count": null,
      "outputs": []
    },
    {
      "cell_type": "code",
      "source": [
        "ff_data"
      ],
      "metadata": {
        "id": "XAAQV-IuVqOL",
        "colab": {
          "base_uri": "https://localhost:8080/",
          "height": 423
        },
        "outputId": "484b7051-84cf-491f-8c7e-6077cb58deed"
      },
      "execution_count": null,
      "outputs": [
        {
          "output_type": "execute_result",
          "data": {
            "text/plain": [
              "            Mkt-RF     SMB     HML      RF  Month_Rtn\n",
              "2000-02-29  0.0245  0.2142 -0.0970  0.0043   0.104820\n",
              "2000-03-31  0.0520 -0.1723  0.0817  0.0047   0.184842\n",
              "2000-04-30 -0.0640 -0.0668  0.0726  0.0046  -0.086517\n",
              "2000-05-31 -0.0442 -0.0609  0.0481  0.0050  -0.322922\n",
              "2000-06-30  0.0464  0.1285 -0.0843  0.0040   0.247024\n",
              "...            ...     ...     ...     ...        ...\n",
              "2022-06-30 -0.0843  0.0209 -0.0597  0.0006  -0.081430\n",
              "2022-07-31  0.0957  0.0281 -0.0410  0.0008   0.188634\n",
              "2022-08-31 -0.0377  0.0139  0.0031  0.0019  -0.031208\n",
              "2022-09-30 -0.0935 -0.0082  0.0003  0.0019  -0.120977\n",
              "2022-10-31  0.0783  0.0010  0.0805  0.0023   0.005644\n",
              "\n",
              "[273 rows x 5 columns]"
            ],
            "text/html": [
              "\n",
              "  <div id=\"df-cd9284dd-fac1-4314-ad21-51e42a540926\">\n",
              "    <div class=\"colab-df-container\">\n",
              "      <div>\n",
              "<style scoped>\n",
              "    .dataframe tbody tr th:only-of-type {\n",
              "        vertical-align: middle;\n",
              "    }\n",
              "\n",
              "    .dataframe tbody tr th {\n",
              "        vertical-align: top;\n",
              "    }\n",
              "\n",
              "    .dataframe thead th {\n",
              "        text-align: right;\n",
              "    }\n",
              "</style>\n",
              "<table border=\"1\" class=\"dataframe\">\n",
              "  <thead>\n",
              "    <tr style=\"text-align: right;\">\n",
              "      <th></th>\n",
              "      <th>Mkt-RF</th>\n",
              "      <th>SMB</th>\n",
              "      <th>HML</th>\n",
              "      <th>RF</th>\n",
              "      <th>Month_Rtn</th>\n",
              "    </tr>\n",
              "  </thead>\n",
              "  <tbody>\n",
              "    <tr>\n",
              "      <th>2000-02-29</th>\n",
              "      <td>0.0245</td>\n",
              "      <td>0.2142</td>\n",
              "      <td>-0.0970</td>\n",
              "      <td>0.0043</td>\n",
              "      <td>0.104820</td>\n",
              "    </tr>\n",
              "    <tr>\n",
              "      <th>2000-03-31</th>\n",
              "      <td>0.0520</td>\n",
              "      <td>-0.1723</td>\n",
              "      <td>0.0817</td>\n",
              "      <td>0.0047</td>\n",
              "      <td>0.184842</td>\n",
              "    </tr>\n",
              "    <tr>\n",
              "      <th>2000-04-30</th>\n",
              "      <td>-0.0640</td>\n",
              "      <td>-0.0668</td>\n",
              "      <td>0.0726</td>\n",
              "      <td>0.0046</td>\n",
              "      <td>-0.086517</td>\n",
              "    </tr>\n",
              "    <tr>\n",
              "      <th>2000-05-31</th>\n",
              "      <td>-0.0442</td>\n",
              "      <td>-0.0609</td>\n",
              "      <td>0.0481</td>\n",
              "      <td>0.0050</td>\n",
              "      <td>-0.322922</td>\n",
              "    </tr>\n",
              "    <tr>\n",
              "      <th>2000-06-30</th>\n",
              "      <td>0.0464</td>\n",
              "      <td>0.1285</td>\n",
              "      <td>-0.0843</td>\n",
              "      <td>0.0040</td>\n",
              "      <td>0.247024</td>\n",
              "    </tr>\n",
              "    <tr>\n",
              "      <th>...</th>\n",
              "      <td>...</td>\n",
              "      <td>...</td>\n",
              "      <td>...</td>\n",
              "      <td>...</td>\n",
              "      <td>...</td>\n",
              "    </tr>\n",
              "    <tr>\n",
              "      <th>2022-06-30</th>\n",
              "      <td>-0.0843</td>\n",
              "      <td>0.0209</td>\n",
              "      <td>-0.0597</td>\n",
              "      <td>0.0006</td>\n",
              "      <td>-0.081430</td>\n",
              "    </tr>\n",
              "    <tr>\n",
              "      <th>2022-07-31</th>\n",
              "      <td>0.0957</td>\n",
              "      <td>0.0281</td>\n",
              "      <td>-0.0410</td>\n",
              "      <td>0.0008</td>\n",
              "      <td>0.188634</td>\n",
              "    </tr>\n",
              "    <tr>\n",
              "      <th>2022-08-31</th>\n",
              "      <td>-0.0377</td>\n",
              "      <td>0.0139</td>\n",
              "      <td>0.0031</td>\n",
              "      <td>0.0019</td>\n",
              "      <td>-0.031208</td>\n",
              "    </tr>\n",
              "    <tr>\n",
              "      <th>2022-09-30</th>\n",
              "      <td>-0.0935</td>\n",
              "      <td>-0.0082</td>\n",
              "      <td>0.0003</td>\n",
              "      <td>0.0019</td>\n",
              "      <td>-0.120977</td>\n",
              "    </tr>\n",
              "    <tr>\n",
              "      <th>2022-10-31</th>\n",
              "      <td>0.0783</td>\n",
              "      <td>0.0010</td>\n",
              "      <td>0.0805</td>\n",
              "      <td>0.0023</td>\n",
              "      <td>0.005644</td>\n",
              "    </tr>\n",
              "  </tbody>\n",
              "</table>\n",
              "<p>273 rows × 5 columns</p>\n",
              "</div>\n",
              "      <button class=\"colab-df-convert\" onclick=\"convertToInteractive('df-cd9284dd-fac1-4314-ad21-51e42a540926')\"\n",
              "              title=\"Convert this dataframe to an interactive table.\"\n",
              "              style=\"display:none;\">\n",
              "        \n",
              "  <svg xmlns=\"http://www.w3.org/2000/svg\" height=\"24px\"viewBox=\"0 0 24 24\"\n",
              "       width=\"24px\">\n",
              "    <path d=\"M0 0h24v24H0V0z\" fill=\"none\"/>\n",
              "    <path d=\"M18.56 5.44l.94 2.06.94-2.06 2.06-.94-2.06-.94-.94-2.06-.94 2.06-2.06.94zm-11 1L8.5 8.5l.94-2.06 2.06-.94-2.06-.94L8.5 2.5l-.94 2.06-2.06.94zm10 10l.94 2.06.94-2.06 2.06-.94-2.06-.94-.94-2.06-.94 2.06-2.06.94z\"/><path d=\"M17.41 7.96l-1.37-1.37c-.4-.4-.92-.59-1.43-.59-.52 0-1.04.2-1.43.59L10.3 9.45l-7.72 7.72c-.78.78-.78 2.05 0 2.83L4 21.41c.39.39.9.59 1.41.59.51 0 1.02-.2 1.41-.59l7.78-7.78 2.81-2.81c.8-.78.8-2.07 0-2.86zM5.41 20L4 18.59l7.72-7.72 1.47 1.35L5.41 20z\"/>\n",
              "  </svg>\n",
              "      </button>\n",
              "      \n",
              "  <style>\n",
              "    .colab-df-container {\n",
              "      display:flex;\n",
              "      flex-wrap:wrap;\n",
              "      gap: 12px;\n",
              "    }\n",
              "\n",
              "    .colab-df-convert {\n",
              "      background-color: #E8F0FE;\n",
              "      border: none;\n",
              "      border-radius: 50%;\n",
              "      cursor: pointer;\n",
              "      display: none;\n",
              "      fill: #1967D2;\n",
              "      height: 32px;\n",
              "      padding: 0 0 0 0;\n",
              "      width: 32px;\n",
              "    }\n",
              "\n",
              "    .colab-df-convert:hover {\n",
              "      background-color: #E2EBFA;\n",
              "      box-shadow: 0px 1px 2px rgba(60, 64, 67, 0.3), 0px 1px 3px 1px rgba(60, 64, 67, 0.15);\n",
              "      fill: #174EA6;\n",
              "    }\n",
              "\n",
              "    [theme=dark] .colab-df-convert {\n",
              "      background-color: #3B4455;\n",
              "      fill: #D2E3FC;\n",
              "    }\n",
              "\n",
              "    [theme=dark] .colab-df-convert:hover {\n",
              "      background-color: #434B5C;\n",
              "      box-shadow: 0px 1px 3px 1px rgba(0, 0, 0, 0.15);\n",
              "      filter: drop-shadow(0px 1px 2px rgba(0, 0, 0, 0.3));\n",
              "      fill: #FFFFFF;\n",
              "    }\n",
              "  </style>\n",
              "\n",
              "      <script>\n",
              "        const buttonEl =\n",
              "          document.querySelector('#df-cd9284dd-fac1-4314-ad21-51e42a540926 button.colab-df-convert');\n",
              "        buttonEl.style.display =\n",
              "          google.colab.kernel.accessAllowed ? 'block' : 'none';\n",
              "\n",
              "        async function convertToInteractive(key) {\n",
              "          const element = document.querySelector('#df-cd9284dd-fac1-4314-ad21-51e42a540926');\n",
              "          const dataTable =\n",
              "            await google.colab.kernel.invokeFunction('convertToInteractive',\n",
              "                                                     [key], {});\n",
              "          if (!dataTable) return;\n",
              "\n",
              "          const docLinkHtml = 'Like what you see? Visit the ' +\n",
              "            '<a target=\"_blank\" href=https://colab.research.google.com/notebooks/data_table.ipynb>data table notebook</a>'\n",
              "            + ' to learn more about interactive tables.';\n",
              "          element.innerHTML = '';\n",
              "          dataTable['output_type'] = 'display_data';\n",
              "          await google.colab.output.renderOutput(dataTable, element);\n",
              "          const docLink = document.createElement('div');\n",
              "          docLink.innerHTML = docLinkHtml;\n",
              "          element.appendChild(docLink);\n",
              "        }\n",
              "      </script>\n",
              "    </div>\n",
              "  </div>\n",
              "  "
            ]
          },
          "metadata": {},
          "execution_count": 9
        }
      ]
    },
    {
      "cell_type": "code",
      "source": [
        "# ff_data 데이터프레임 칼럼 이름 변경\n",
        "ff_data.columns = ['beta', 'size', 'value', 'rf', 'ret']\n",
        "\n",
        "# 결과\n",
        "ff_data\n"
      ],
      "metadata": {
        "id": "ku7hLv65wXvp",
        "colab": {
          "base_uri": "https://localhost:8080/",
          "height": 423
        },
        "outputId": "f180f53e-0d6f-428f-aa0a-41ca0c047003"
      },
      "execution_count": null,
      "outputs": [
        {
          "output_type": "execute_result",
          "data": {
            "text/plain": [
              "              beta    size   value      rf       ret\n",
              "2000-02-29  0.0245  0.2142 -0.0970  0.0043  0.104820\n",
              "2000-03-31  0.0520 -0.1723  0.0817  0.0047  0.184842\n",
              "2000-04-30 -0.0640 -0.0668  0.0726  0.0046 -0.086517\n",
              "2000-05-31 -0.0442 -0.0609  0.0481  0.0050 -0.322922\n",
              "2000-06-30  0.0464  0.1285 -0.0843  0.0040  0.247024\n",
              "...            ...     ...     ...     ...       ...\n",
              "2022-06-30 -0.0843  0.0209 -0.0597  0.0006 -0.081430\n",
              "2022-07-31  0.0957  0.0281 -0.0410  0.0008  0.188634\n",
              "2022-08-31 -0.0377  0.0139  0.0031  0.0019 -0.031208\n",
              "2022-09-30 -0.0935 -0.0082  0.0003  0.0019 -0.120977\n",
              "2022-10-31  0.0783  0.0010  0.0805  0.0023  0.005644\n",
              "\n",
              "[273 rows x 5 columns]"
            ],
            "text/html": [
              "\n",
              "  <div id=\"df-ff4eafe3-dc97-4092-9fd3-4754af57a622\">\n",
              "    <div class=\"colab-df-container\">\n",
              "      <div>\n",
              "<style scoped>\n",
              "    .dataframe tbody tr th:only-of-type {\n",
              "        vertical-align: middle;\n",
              "    }\n",
              "\n",
              "    .dataframe tbody tr th {\n",
              "        vertical-align: top;\n",
              "    }\n",
              "\n",
              "    .dataframe thead th {\n",
              "        text-align: right;\n",
              "    }\n",
              "</style>\n",
              "<table border=\"1\" class=\"dataframe\">\n",
              "  <thead>\n",
              "    <tr style=\"text-align: right;\">\n",
              "      <th></th>\n",
              "      <th>beta</th>\n",
              "      <th>size</th>\n",
              "      <th>value</th>\n",
              "      <th>rf</th>\n",
              "      <th>ret</th>\n",
              "    </tr>\n",
              "  </thead>\n",
              "  <tbody>\n",
              "    <tr>\n",
              "      <th>2000-02-29</th>\n",
              "      <td>0.0245</td>\n",
              "      <td>0.2142</td>\n",
              "      <td>-0.0970</td>\n",
              "      <td>0.0043</td>\n",
              "      <td>0.104820</td>\n",
              "    </tr>\n",
              "    <tr>\n",
              "      <th>2000-03-31</th>\n",
              "      <td>0.0520</td>\n",
              "      <td>-0.1723</td>\n",
              "      <td>0.0817</td>\n",
              "      <td>0.0047</td>\n",
              "      <td>0.184842</td>\n",
              "    </tr>\n",
              "    <tr>\n",
              "      <th>2000-04-30</th>\n",
              "      <td>-0.0640</td>\n",
              "      <td>-0.0668</td>\n",
              "      <td>0.0726</td>\n",
              "      <td>0.0046</td>\n",
              "      <td>-0.086517</td>\n",
              "    </tr>\n",
              "    <tr>\n",
              "      <th>2000-05-31</th>\n",
              "      <td>-0.0442</td>\n",
              "      <td>-0.0609</td>\n",
              "      <td>0.0481</td>\n",
              "      <td>0.0050</td>\n",
              "      <td>-0.322922</td>\n",
              "    </tr>\n",
              "    <tr>\n",
              "      <th>2000-06-30</th>\n",
              "      <td>0.0464</td>\n",
              "      <td>0.1285</td>\n",
              "      <td>-0.0843</td>\n",
              "      <td>0.0040</td>\n",
              "      <td>0.247024</td>\n",
              "    </tr>\n",
              "    <tr>\n",
              "      <th>...</th>\n",
              "      <td>...</td>\n",
              "      <td>...</td>\n",
              "      <td>...</td>\n",
              "      <td>...</td>\n",
              "      <td>...</td>\n",
              "    </tr>\n",
              "    <tr>\n",
              "      <th>2022-06-30</th>\n",
              "      <td>-0.0843</td>\n",
              "      <td>0.0209</td>\n",
              "      <td>-0.0597</td>\n",
              "      <td>0.0006</td>\n",
              "      <td>-0.081430</td>\n",
              "    </tr>\n",
              "    <tr>\n",
              "      <th>2022-07-31</th>\n",
              "      <td>0.0957</td>\n",
              "      <td>0.0281</td>\n",
              "      <td>-0.0410</td>\n",
              "      <td>0.0008</td>\n",
              "      <td>0.188634</td>\n",
              "    </tr>\n",
              "    <tr>\n",
              "      <th>2022-08-31</th>\n",
              "      <td>-0.0377</td>\n",
              "      <td>0.0139</td>\n",
              "      <td>0.0031</td>\n",
              "      <td>0.0019</td>\n",
              "      <td>-0.031208</td>\n",
              "    </tr>\n",
              "    <tr>\n",
              "      <th>2022-09-30</th>\n",
              "      <td>-0.0935</td>\n",
              "      <td>-0.0082</td>\n",
              "      <td>0.0003</td>\n",
              "      <td>0.0019</td>\n",
              "      <td>-0.120977</td>\n",
              "    </tr>\n",
              "    <tr>\n",
              "      <th>2022-10-31</th>\n",
              "      <td>0.0783</td>\n",
              "      <td>0.0010</td>\n",
              "      <td>0.0805</td>\n",
              "      <td>0.0023</td>\n",
              "      <td>0.005644</td>\n",
              "    </tr>\n",
              "  </tbody>\n",
              "</table>\n",
              "<p>273 rows × 5 columns</p>\n",
              "</div>\n",
              "      <button class=\"colab-df-convert\" onclick=\"convertToInteractive('df-ff4eafe3-dc97-4092-9fd3-4754af57a622')\"\n",
              "              title=\"Convert this dataframe to an interactive table.\"\n",
              "              style=\"display:none;\">\n",
              "        \n",
              "  <svg xmlns=\"http://www.w3.org/2000/svg\" height=\"24px\"viewBox=\"0 0 24 24\"\n",
              "       width=\"24px\">\n",
              "    <path d=\"M0 0h24v24H0V0z\" fill=\"none\"/>\n",
              "    <path d=\"M18.56 5.44l.94 2.06.94-2.06 2.06-.94-2.06-.94-.94-2.06-.94 2.06-2.06.94zm-11 1L8.5 8.5l.94-2.06 2.06-.94-2.06-.94L8.5 2.5l-.94 2.06-2.06.94zm10 10l.94 2.06.94-2.06 2.06-.94-2.06-.94-.94-2.06-.94 2.06-2.06.94z\"/><path d=\"M17.41 7.96l-1.37-1.37c-.4-.4-.92-.59-1.43-.59-.52 0-1.04.2-1.43.59L10.3 9.45l-7.72 7.72c-.78.78-.78 2.05 0 2.83L4 21.41c.39.39.9.59 1.41.59.51 0 1.02-.2 1.41-.59l7.78-7.78 2.81-2.81c.8-.78.8-2.07 0-2.86zM5.41 20L4 18.59l7.72-7.72 1.47 1.35L5.41 20z\"/>\n",
              "  </svg>\n",
              "      </button>\n",
              "      \n",
              "  <style>\n",
              "    .colab-df-container {\n",
              "      display:flex;\n",
              "      flex-wrap:wrap;\n",
              "      gap: 12px;\n",
              "    }\n",
              "\n",
              "    .colab-df-convert {\n",
              "      background-color: #E8F0FE;\n",
              "      border: none;\n",
              "      border-radius: 50%;\n",
              "      cursor: pointer;\n",
              "      display: none;\n",
              "      fill: #1967D2;\n",
              "      height: 32px;\n",
              "      padding: 0 0 0 0;\n",
              "      width: 32px;\n",
              "    }\n",
              "\n",
              "    .colab-df-convert:hover {\n",
              "      background-color: #E2EBFA;\n",
              "      box-shadow: 0px 1px 2px rgba(60, 64, 67, 0.3), 0px 1px 3px 1px rgba(60, 64, 67, 0.15);\n",
              "      fill: #174EA6;\n",
              "    }\n",
              "\n",
              "    [theme=dark] .colab-df-convert {\n",
              "      background-color: #3B4455;\n",
              "      fill: #D2E3FC;\n",
              "    }\n",
              "\n",
              "    [theme=dark] .colab-df-convert:hover {\n",
              "      background-color: #434B5C;\n",
              "      box-shadow: 0px 1px 3px 1px rgba(0, 0, 0, 0.15);\n",
              "      filter: drop-shadow(0px 1px 2px rgba(0, 0, 0, 0.3));\n",
              "      fill: #FFFFFF;\n",
              "    }\n",
              "  </style>\n",
              "\n",
              "      <script>\n",
              "        const buttonEl =\n",
              "          document.querySelector('#df-ff4eafe3-dc97-4092-9fd3-4754af57a622 button.colab-df-convert');\n",
              "        buttonEl.style.display =\n",
              "          google.colab.kernel.accessAllowed ? 'block' : 'none';\n",
              "\n",
              "        async function convertToInteractive(key) {\n",
              "          const element = document.querySelector('#df-ff4eafe3-dc97-4092-9fd3-4754af57a622');\n",
              "          const dataTable =\n",
              "            await google.colab.kernel.invokeFunction('convertToInteractive',\n",
              "                                                     [key], {});\n",
              "          if (!dataTable) return;\n",
              "\n",
              "          const docLinkHtml = 'Like what you see? Visit the ' +\n",
              "            '<a target=\"_blank\" href=https://colab.research.google.com/notebooks/data_table.ipynb>data table notebook</a>'\n",
              "            + ' to learn more about interactive tables.';\n",
              "          element.innerHTML = '';\n",
              "          dataTable['output_type'] = 'display_data';\n",
              "          await google.colab.output.renderOutput(dataTable, element);\n",
              "          const docLink = document.createElement('div');\n",
              "          docLink.innerHTML = docLinkHtml;\n",
              "          element.appendChild(docLink);\n",
              "        }\n",
              "      </script>\n",
              "    </div>\n",
              "  </div>\n",
              "  "
            ]
          },
          "metadata": {},
          "execution_count": 10
        }
      ]
    },
    {
      "cell_type": "markdown",
      "source": [
        "### 파마-프렌치 3 팩터 모델로 주가 선형 회귀 분석"
      ],
      "metadata": {
        "id": "rv9fvoJ_nfDh"
      }
    },
    {
      "cell_type": "code",
      "source": [
        "# 회귀분석 설명변수: 베타, 사이즈, 밸류\n",
        "X = ff_data[['beta', 'size', 'value']]\n",
        "\n",
        "# 회귀분석 종속변수: 애플 주식의 무위험 초과 수익률\n",
        "y = ff_data['ret'] - ff_data['rf']\n",
        "\n",
        "# 데이터를 회귀분석 모델에 피팅시키기\n",
        "ff_model = sm.OLS(y, X).fit()\n",
        "\n",
        "# 회귀분석 결과 출력\n",
        "print(ff_model.summary())\n",
        "\n",
        "# 베타 계수 할당\n",
        "b1, b2, b3 = ff_model.params"
      ],
      "metadata": {
        "id": "so7xU0UAYNgE",
        "colab": {
          "base_uri": "https://localhost:8080/"
        },
        "outputId": "c6dfa6a8-b7cb-491e-a935-33c06c6738e3"
      },
      "execution_count": null,
      "outputs": [
        {
          "output_type": "stream",
          "name": "stdout",
          "text": [
            "                                 OLS Regression Results                                \n",
            "=======================================================================================\n",
            "Dep. Variable:                      y   R-squared (uncentered):                   0.369\n",
            "Model:                            OLS   Adj. R-squared (uncentered):              0.362\n",
            "Method:                 Least Squares   F-statistic:                              52.56\n",
            "Date:                Mon, 06 Feb 2023   Prob (F-statistic):                    8.70e-27\n",
            "Time:                        08:59:23   Log-Likelihood:                          262.37\n",
            "No. Observations:                 273   AIC:                                     -518.7\n",
            "Df Residuals:                     270   BIC:                                     -507.9\n",
            "Df Model:                           3                                                  \n",
            "Covariance Type:            nonrobust                                                  \n",
            "==============================================================================\n",
            "                 coef    std err          t      P>|t|      [0.025      0.975]\n",
            "------------------------------------------------------------------------------\n",
            "beta           1.3711      0.126     10.849      0.000       1.122       1.620\n",
            "size           0.1054      0.187      0.564      0.574      -0.263       0.473\n",
            "value         -0.7715      0.164     -4.700      0.000      -1.095      -0.448\n",
            "==============================================================================\n",
            "Omnibus:                       29.554   Durbin-Watson:                   1.889\n",
            "Prob(Omnibus):                  0.000   Jarque-Bera (JB):              150.356\n",
            "Skew:                          -0.106   Prob(JB):                     2.24e-33\n",
            "Kurtosis:                       6.629   Cond. No.                         1.70\n",
            "==============================================================================\n",
            "\n",
            "Notes:\n",
            "[1] R² is computed without centering (uncentered) since the model does not contain a constant.\n",
            "[2] Standard Errors assume that the covariance matrix of the errors is correctly specified.\n"
          ]
        }
      ]
    },
    {
      "cell_type": "code",
      "source": [
        "b1, b2, b3"
      ],
      "metadata": {
        "id": "pxrIPzKvWfUu",
        "colab": {
          "base_uri": "https://localhost:8080/"
        },
        "outputId": "f913fe7f-16c9-4b44-c08f-3bbe5364b1be"
      },
      "execution_count": null,
      "outputs": [
        {
          "output_type": "execute_result",
          "data": {
            "text/plain": [
              "(1.371131228673716, 0.10537008835413812, -0.7714824382344939)"
            ]
          },
          "metadata": {},
          "execution_count": 12
        }
      ]
    },
    {
      "cell_type": "code",
      "source": [
        "# 무위험수익률\n",
        "rf = ff_data['rf'].mean()\n",
        "\n",
        "# 시장 위험 프리미엄\n",
        "market_premium = ff_data['beta'].mean()\n",
        "\n",
        "# 사이즈 프리미엄\n",
        "size_premium = ff_data['size'].mean()\n",
        "\n",
        "# 밸류 프리미엄\n",
        "value_premium = ff_data['value'].mean()\n",
        "\n",
        "# 팩터를 활용한 기대수익률 계산\n",
        "# 월간 기대수익률\n",
        "expected_monthly_return = rf + b1 * market_premium + b2 * size_premium + b3 * value_premium\n",
        "\n",
        "# 연간 기대수익률\n",
        "expected_yearly_return = expected_monthly_return * 12\n",
        "\n",
        "# 기대수익률 출력\n",
        "print('Expected Yearly Return: ' + str(expected_yearly_return))"
      ],
      "metadata": {
        "id": "VMfUyPwMYQc7",
        "colab": {
          "base_uri": "https://localhost:8080/"
        },
        "outputId": "ccfe095d-7595-4f77-a3ba-d9e92e49d9b9"
      },
      "execution_count": null,
      "outputs": [
        {
          "output_type": "stream",
          "name": "stdout",
          "text": [
            "Expected Yearly Return: 0.08102279733684811\n"
          ]
        }
      ]
    },
    {
      "cell_type": "markdown",
      "source": [
        "### 시간 가변적 베타 (Time-Varying Beta)\n"
      ],
      "metadata": {
        "id": "ciCEGy_Tu-GR"
      }
    },
    {
      "cell_type": "code",
      "source": [
        "# RollingOLS 임포트\n",
        "from statsmodels.regression.rolling import RollingOLS"
      ],
      "metadata": {
        "id": "_FOOsttJYUlE"
      },
      "execution_count": null,
      "outputs": []
    },
    {
      "cell_type": "code",
      "source": [
        "# 3-팩터 롤링 베타 추출\n",
        "betas = RollingOLS.from_formula('ret ~ beta + size + value', data=ff_data, window=36).fit().params"
      ],
      "metadata": {
        "id": "RSv8p2OXvE99"
      },
      "execution_count": null,
      "outputs": []
    },
    {
      "cell_type": "code",
      "source": [
        "betas"
      ],
      "metadata": {
        "id": "gM_nj6UfX4oS",
        "colab": {
          "base_uri": "https://localhost:8080/",
          "height": 423
        },
        "outputId": "e3675128-70da-4588-a289-9cf737e4a7ae"
      },
      "execution_count": null,
      "outputs": [
        {
          "output_type": "execute_result",
          "data": {
            "text/plain": [
              "            Intercept      beta      size     value\n",
              "2000-02-29        NaN       NaN       NaN       NaN\n",
              "2000-03-31        NaN       NaN       NaN       NaN\n",
              "2000-04-30        NaN       NaN       NaN       NaN\n",
              "2000-05-31        NaN       NaN       NaN       NaN\n",
              "2000-06-30        NaN       NaN       NaN       NaN\n",
              "...               ...       ...       ...       ...\n",
              "2022-06-30   0.022748  1.292452 -0.598419 -0.453837\n",
              "2022-07-31   0.022798  1.314894 -0.558703 -0.472186\n",
              "2022-08-31   0.024304  1.304920 -0.587338 -0.493836\n",
              "2022-09-30   0.021797  1.320926 -0.566632 -0.534356\n",
              "2022-10-31   0.018736  1.275639 -0.537707 -0.577562\n",
              "\n",
              "[273 rows x 4 columns]"
            ],
            "text/html": [
              "\n",
              "  <div id=\"df-d7a75a3e-8e8a-4867-9617-9b73e07c0e79\">\n",
              "    <div class=\"colab-df-container\">\n",
              "      <div>\n",
              "<style scoped>\n",
              "    .dataframe tbody tr th:only-of-type {\n",
              "        vertical-align: middle;\n",
              "    }\n",
              "\n",
              "    .dataframe tbody tr th {\n",
              "        vertical-align: top;\n",
              "    }\n",
              "\n",
              "    .dataframe thead th {\n",
              "        text-align: right;\n",
              "    }\n",
              "</style>\n",
              "<table border=\"1\" class=\"dataframe\">\n",
              "  <thead>\n",
              "    <tr style=\"text-align: right;\">\n",
              "      <th></th>\n",
              "      <th>Intercept</th>\n",
              "      <th>beta</th>\n",
              "      <th>size</th>\n",
              "      <th>value</th>\n",
              "    </tr>\n",
              "  </thead>\n",
              "  <tbody>\n",
              "    <tr>\n",
              "      <th>2000-02-29</th>\n",
              "      <td>NaN</td>\n",
              "      <td>NaN</td>\n",
              "      <td>NaN</td>\n",
              "      <td>NaN</td>\n",
              "    </tr>\n",
              "    <tr>\n",
              "      <th>2000-03-31</th>\n",
              "      <td>NaN</td>\n",
              "      <td>NaN</td>\n",
              "      <td>NaN</td>\n",
              "      <td>NaN</td>\n",
              "    </tr>\n",
              "    <tr>\n",
              "      <th>2000-04-30</th>\n",
              "      <td>NaN</td>\n",
              "      <td>NaN</td>\n",
              "      <td>NaN</td>\n",
              "      <td>NaN</td>\n",
              "    </tr>\n",
              "    <tr>\n",
              "      <th>2000-05-31</th>\n",
              "      <td>NaN</td>\n",
              "      <td>NaN</td>\n",
              "      <td>NaN</td>\n",
              "      <td>NaN</td>\n",
              "    </tr>\n",
              "    <tr>\n",
              "      <th>2000-06-30</th>\n",
              "      <td>NaN</td>\n",
              "      <td>NaN</td>\n",
              "      <td>NaN</td>\n",
              "      <td>NaN</td>\n",
              "    </tr>\n",
              "    <tr>\n",
              "      <th>...</th>\n",
              "      <td>...</td>\n",
              "      <td>...</td>\n",
              "      <td>...</td>\n",
              "      <td>...</td>\n",
              "    </tr>\n",
              "    <tr>\n",
              "      <th>2022-06-30</th>\n",
              "      <td>0.022748</td>\n",
              "      <td>1.292452</td>\n",
              "      <td>-0.598419</td>\n",
              "      <td>-0.453837</td>\n",
              "    </tr>\n",
              "    <tr>\n",
              "      <th>2022-07-31</th>\n",
              "      <td>0.022798</td>\n",
              "      <td>1.314894</td>\n",
              "      <td>-0.558703</td>\n",
              "      <td>-0.472186</td>\n",
              "    </tr>\n",
              "    <tr>\n",
              "      <th>2022-08-31</th>\n",
              "      <td>0.024304</td>\n",
              "      <td>1.304920</td>\n",
              "      <td>-0.587338</td>\n",
              "      <td>-0.493836</td>\n",
              "    </tr>\n",
              "    <tr>\n",
              "      <th>2022-09-30</th>\n",
              "      <td>0.021797</td>\n",
              "      <td>1.320926</td>\n",
              "      <td>-0.566632</td>\n",
              "      <td>-0.534356</td>\n",
              "    </tr>\n",
              "    <tr>\n",
              "      <th>2022-10-31</th>\n",
              "      <td>0.018736</td>\n",
              "      <td>1.275639</td>\n",
              "      <td>-0.537707</td>\n",
              "      <td>-0.577562</td>\n",
              "    </tr>\n",
              "  </tbody>\n",
              "</table>\n",
              "<p>273 rows × 4 columns</p>\n",
              "</div>\n",
              "      <button class=\"colab-df-convert\" onclick=\"convertToInteractive('df-d7a75a3e-8e8a-4867-9617-9b73e07c0e79')\"\n",
              "              title=\"Convert this dataframe to an interactive table.\"\n",
              "              style=\"display:none;\">\n",
              "        \n",
              "  <svg xmlns=\"http://www.w3.org/2000/svg\" height=\"24px\"viewBox=\"0 0 24 24\"\n",
              "       width=\"24px\">\n",
              "    <path d=\"M0 0h24v24H0V0z\" fill=\"none\"/>\n",
              "    <path d=\"M18.56 5.44l.94 2.06.94-2.06 2.06-.94-2.06-.94-.94-2.06-.94 2.06-2.06.94zm-11 1L8.5 8.5l.94-2.06 2.06-.94-2.06-.94L8.5 2.5l-.94 2.06-2.06.94zm10 10l.94 2.06.94-2.06 2.06-.94-2.06-.94-.94-2.06-.94 2.06-2.06.94z\"/><path d=\"M17.41 7.96l-1.37-1.37c-.4-.4-.92-.59-1.43-.59-.52 0-1.04.2-1.43.59L10.3 9.45l-7.72 7.72c-.78.78-.78 2.05 0 2.83L4 21.41c.39.39.9.59 1.41.59.51 0 1.02-.2 1.41-.59l7.78-7.78 2.81-2.81c.8-.78.8-2.07 0-2.86zM5.41 20L4 18.59l7.72-7.72 1.47 1.35L5.41 20z\"/>\n",
              "  </svg>\n",
              "      </button>\n",
              "      \n",
              "  <style>\n",
              "    .colab-df-container {\n",
              "      display:flex;\n",
              "      flex-wrap:wrap;\n",
              "      gap: 12px;\n",
              "    }\n",
              "\n",
              "    .colab-df-convert {\n",
              "      background-color: #E8F0FE;\n",
              "      border: none;\n",
              "      border-radius: 50%;\n",
              "      cursor: pointer;\n",
              "      display: none;\n",
              "      fill: #1967D2;\n",
              "      height: 32px;\n",
              "      padding: 0 0 0 0;\n",
              "      width: 32px;\n",
              "    }\n",
              "\n",
              "    .colab-df-convert:hover {\n",
              "      background-color: #E2EBFA;\n",
              "      box-shadow: 0px 1px 2px rgba(60, 64, 67, 0.3), 0px 1px 3px 1px rgba(60, 64, 67, 0.15);\n",
              "      fill: #174EA6;\n",
              "    }\n",
              "\n",
              "    [theme=dark] .colab-df-convert {\n",
              "      background-color: #3B4455;\n",
              "      fill: #D2E3FC;\n",
              "    }\n",
              "\n",
              "    [theme=dark] .colab-df-convert:hover {\n",
              "      background-color: #434B5C;\n",
              "      box-shadow: 0px 1px 3px 1px rgba(0, 0, 0, 0.15);\n",
              "      filter: drop-shadow(0px 1px 2px rgba(0, 0, 0, 0.3));\n",
              "      fill: #FFFFFF;\n",
              "    }\n",
              "  </style>\n",
              "\n",
              "      <script>\n",
              "        const buttonEl =\n",
              "          document.querySelector('#df-d7a75a3e-8e8a-4867-9617-9b73e07c0e79 button.colab-df-convert');\n",
              "        buttonEl.style.display =\n",
              "          google.colab.kernel.accessAllowed ? 'block' : 'none';\n",
              "\n",
              "        async function convertToInteractive(key) {\n",
              "          const element = document.querySelector('#df-d7a75a3e-8e8a-4867-9617-9b73e07c0e79');\n",
              "          const dataTable =\n",
              "            await google.colab.kernel.invokeFunction('convertToInteractive',\n",
              "                                                     [key], {});\n",
              "          if (!dataTable) return;\n",
              "\n",
              "          const docLinkHtml = 'Like what you see? Visit the ' +\n",
              "            '<a target=\"_blank\" href=https://colab.research.google.com/notebooks/data_table.ipynb>data table notebook</a>'\n",
              "            + ' to learn more about interactive tables.';\n",
              "          element.innerHTML = '';\n",
              "          dataTable['output_type'] = 'display_data';\n",
              "          await google.colab.output.renderOutput(dataTable, element);\n",
              "          const docLink = document.createElement('div');\n",
              "          docLink.innerHTML = docLinkHtml;\n",
              "          element.appendChild(docLink);\n",
              "        }\n",
              "      </script>\n",
              "    </div>\n",
              "  </div>\n",
              "  "
            ]
          },
          "metadata": {},
          "execution_count": 16
        }
      ]
    },
    {
      "cell_type": "code",
      "source": [
        "# 팩터 계수 그래프\n",
        "betas.dropna().plot(figsize=(10, 6))"
      ],
      "metadata": {
        "id": "h13AcQfbxnb0",
        "colab": {
          "base_uri": "https://localhost:8080/",
          "height": 391
        },
        "outputId": "19970ea9-0e81-42cc-e87a-70dc568cab65"
      },
      "execution_count": null,
      "outputs": [
        {
          "output_type": "execute_result",
          "data": {
            "text/plain": [
              "<matplotlib.axes._subplots.AxesSubplot at 0x7f29fe414be0>"
            ]
          },
          "metadata": {},
          "execution_count": 17
        },
        {
          "output_type": "display_data",
          "data": {
            "text/plain": [
              "<Figure size 720x432 with 1 Axes>"
            ],
            "image/png": "[encoded data removed]"
          },
          "metadata": {
            "needs_background": "light"
          }
        }
      ]
    }
  ]
}