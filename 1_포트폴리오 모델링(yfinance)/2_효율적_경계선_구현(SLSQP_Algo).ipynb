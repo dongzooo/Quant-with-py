{
  "nbformat": 4,
  "nbformat_minor": 0,
  "metadata": {
    "colab": {
      "provenance": [],
      "include_colab_link": true
    },
    "kernelspec": {
      "name": "python3",
      "display_name": "Python 3"
    },
    "language_info": {
      "name": "python"
    }
  },
  "cells": [
    {
      "cell_type": "markdown",
      "metadata": {
        "id": "view-in-github",
        "colab_type": "text"
      },
      "source": [
        "<a href=\"https://colab.research.google.com/github/dongzooo/Quant-with-py/blob/main/1_%ED%8F%AC%ED%8A%B8%ED%8F%B4%EB%A6%AC%EC%98%A4%20%EB%AA%A8%EB%8D%B8%EB%A7%81(yfinance)/2_%ED%9A%A8%EC%9C%A8%EC%A0%81_%EA%B2%BD%EA%B3%84%EC%84%A0_%EA%B5%AC%ED%98%84(SLSQP_Algo).ipynb\" target=\"_parent\"><img src=\"https://colab.research.google.com/assets/colab-badge.svg\" alt=\"Open In Colab\"/></a>"
      ]
    },
    {
      "cell_type": "code",
      "execution_count": 1,
      "metadata": {
        "id": "qYWQLdC6sUWG",
        "colab": {
          "base_uri": "https://localhost:8080/"
        },
        "outputId": "06e83fd8-74d5-4055-e228-9a3dec5c9554"
      },
      "outputs": [
        {
          "output_type": "stream",
          "name": "stdout",
          "text": [
            "\u001b[2K     \u001b[90m━━━━━━━━━━━━━━━━━━━━━━━━━━━━━━━━━━━━━━━━\u001b[0m \u001b[32m59.2/59.2 KB\u001b[0m \u001b[31m3.2 MB/s\u001b[0m eta \u001b[36m0:00:00\u001b[0m\n",
            "\u001b[2K     \u001b[90m━━━━━━━━━━━━━━━━━━━━━━━━━━━━━━━━━━━━━━━━\u001b[0m \u001b[32m62.8/62.8 KB\u001b[0m \u001b[31m3.5 MB/s\u001b[0m eta \u001b[36m0:00:00\u001b[0m\n",
            "\u001b[2K     \u001b[90m━━━━━━━━━━━━━━━━━━━━━━━━━━━━━━━━━━━━━━━\u001b[0m \u001b[32m111.2/111.2 KB\u001b[0m \u001b[31m6.1 MB/s\u001b[0m eta \u001b[36m0:00:00\u001b[0m\n",
            "\u001b[2K     \u001b[90m━━━━━━━━━━━━━━━━━━━━━━━━━━━━━━━━━━━━━━\u001b[0m \u001b[32m112.2/112.2 KB\u001b[0m \u001b[31m10.3 MB/s\u001b[0m eta \u001b[36m0:00:00\u001b[0m\n",
            "\u001b[2K     \u001b[90m━━━━━━━━━━━━━━━━━━━━━━━━━━━━━━━━━━━━━━━\u001b[0m \u001b[32m129.4/129.4 KB\u001b[0m \u001b[31m9.8 MB/s\u001b[0m eta \u001b[36m0:00:00\u001b[0m\n",
            "\u001b[2K     \u001b[90m━━━━━━━━━━━━━━━━━━━━━━━━━━━━━━━━━━━━━━━━\u001b[0m \u001b[32m4.2/4.2 MB\u001b[0m \u001b[31m38.8 MB/s\u001b[0m eta \u001b[36m0:00:00\u001b[0m\n",
            "\u001b[?25h"
          ]
        }
      ],
      "source": [
        "# yfinance 패키지 설치\n",
        "!pip install yfinance --quiet"
      ]
    },
    {
      "cell_type": "code",
      "source": [
        "# 패키지 임포트: numpy, pandas, matplotlib, seaborn, yfinance\n",
        "import numpy as np\n",
        "import pandas as pd\n",
        "import matplotlib.pyplot as plt\n",
        "import seaborn as sns\n",
        "import yfinance as yf\n",
        "\n",
        "# seaborn 세팅하기\n",
        "sns.set()"
      ],
      "metadata": {
        "id": "gvO2asTYsdpK"
      },
      "execution_count": 2,
      "outputs": []
    },
    {
      "cell_type": "markdown",
      "source": [
        "### 효율적 경계선 구현을 위한 최적화 알고리즘"
      ],
      "metadata": {
        "id": "HjL1WQCVsqWi"
      }
    },
    {
      "cell_type": "code",
      "source": [
        "# 티커 리스트 정의\n",
        "tickers = ['XLB', 'XLE', 'XLF', 'XLI', 'XLK', 'XLP', 'XLU', 'XLV', 'XLY']\n",
        "\n",
        "# etf 객체 정의\n",
        "etf = yf.Tickers(tickers)\n",
        "\n",
        "# ETF 시계열 가격 데이터 다운로드\n",
        "data = etf.history(start='2011-01-01', actions=False)\n",
        "\n",
        "# 종가 이외의 데이터 제거\n",
        "data.drop(['Open', 'High', 'Low', 'Volume'], inplace=True, axis=1)\n",
        "\n",
        "# 열 이름 레벨 다운그레이드\n",
        "data = data.droplevel(0, axis=1)"
      ],
      "metadata": {
        "id": "vaMs_BpRsgo4",
        "colab": {
          "base_uri": "https://localhost:8080/"
        },
        "outputId": "b9615b1e-dbfd-492c-f557-cde1409c0c4e"
      },
      "execution_count": 3,
      "outputs": [
        {
          "output_type": "stream",
          "name": "stdout",
          "text": [
            "[*********************100%***********************]  9 of 9 completed\n"
          ]
        }
      ]
    },
    {
      "cell_type": "code",
      "source": [
        "data"
      ],
      "metadata": {
        "id": "8rHEdIAPFMXa",
        "colab": {
          "base_uri": "https://localhost:8080/",
          "height": 498
        },
        "outputId": "c1a0d750-6954-4f5d-e951-ef256c5f887f"
      },
      "execution_count": null,
      "outputs": [
        {
          "output_type": "execute_result",
          "data": {
            "text/plain": [
              "                                 XLB        XLE        XLF         XLI  \\\n",
              "Date                                                                     \n",
              "2011-01-03 00:00:00-05:00  30.168970  45.762104  10.574044   27.754169   \n",
              "2011-01-04 00:00:00-05:00  29.966394  45.369431  10.561074   27.714645   \n",
              "2011-01-05 00:00:00-05:00  30.036514  45.549129  10.684328   27.856899   \n",
              "2011-01-06 00:00:00-05:00  29.880682  45.116531  10.612967   27.809483   \n",
              "2011-01-07 00:00:00-05:00  29.849527  45.442638  10.522152   27.864805   \n",
              "...                              ...        ...        ...         ...   \n",
              "2023-01-30 00:00:00-05:00  82.830002  89.139999  36.070000  100.150002   \n",
              "2023-01-31 00:00:00-05:00  84.650002  89.930000  36.560001  101.849998   \n",
              "2023-02-01 00:00:00-05:00  85.209999  88.160004  36.560001  102.589996   \n",
              "2023-02-02 00:00:00-05:00  84.940002  86.150002  36.660000  103.389999   \n",
              "2023-02-03 00:00:00-05:00  83.410004  85.959999  36.590000  102.849998   \n",
              "\n",
              "                                  XLK        XLP        XLU         XLV  \\\n",
              "Date                                                                      \n",
              "2011-01-03 00:00:00-05:00   21.301203  21.268742  20.726189   25.937010   \n",
              "2011-01-04 00:00:00-05:00   21.384834  21.210770  20.824915   26.018602   \n",
              "2011-01-05 00:00:00-05:00   21.510288  21.218012  20.693275   26.075714   \n",
              "2011-01-06 00:00:00-05:00   21.635735  21.145552  20.713020   26.181784   \n",
              "2011-01-07 00:00:00-05:00   21.535372  21.036846  20.785419   26.165461   \n",
              "...                               ...        ...        ...         ...   \n",
              "2023-01-30 00:00:00-05:00  134.089996  72.949997  68.580002  131.660004   \n",
              "2023-01-31 00:00:00-05:00  135.960007  73.739998  69.089996  133.360001   \n",
              "2023-02-01 00:00:00-05:00  139.160004  74.330002  69.209999  133.990005   \n",
              "2023-02-02 00:00:00-05:00  142.960007  73.690002  69.360001  133.080002   \n",
              "2023-02-03 00:00:00-05:00  141.770004  73.400002  67.910004  132.690002   \n",
              "\n",
              "                                  XLY  \n",
              "Date                                   \n",
              "2011-01-03 00:00:00-05:00   32.382446  \n",
              "2011-01-04 00:00:00-05:00   32.202770  \n",
              "2011-01-05 00:00:00-05:00   32.468002  \n",
              "2011-01-06 00:00:00-05:00   32.271217  \n",
              "2011-01-07 00:00:00-05:00   32.254105  \n",
              "...                               ...  \n",
              "2023-01-30 00:00:00-05:00  145.369995  \n",
              "2023-01-31 00:00:00-05:00  148.699997  \n",
              "2023-02-01 00:00:00-05:00  151.520004  \n",
              "2023-02-02 00:00:00-05:00  156.160004  \n",
              "2023-02-03 00:00:00-05:00  151.350006  \n",
              "\n",
              "[3043 rows x 9 columns]"
            ],
            "text/html": [
              "\n",
              "  <div id=\"df-30702e74-f1a8-47d7-b6d1-a9f599f4ffb8\">\n",
              "    <div class=\"colab-df-container\">\n",
              "      <div>\n",
              "<style scoped>\n",
              "    .dataframe tbody tr th:only-of-type {\n",
              "        vertical-align: middle;\n",
              "    }\n",
              "\n",
              "    .dataframe tbody tr th {\n",
              "        vertical-align: top;\n",
              "    }\n",
              "\n",
              "    .dataframe thead th {\n",
              "        text-align: right;\n",
              "    }\n",
              "</style>\n",
              "<table border=\"1\" class=\"dataframe\">\n",
              "  <thead>\n",
              "    <tr style=\"text-align: right;\">\n",
              "      <th></th>\n",
              "      <th>XLB</th>\n",
              "      <th>XLE</th>\n",
              "      <th>XLF</th>\n",
              "      <th>XLI</th>\n",
              "      <th>XLK</th>\n",
              "      <th>XLP</th>\n",
              "      <th>XLU</th>\n",
              "      <th>XLV</th>\n",
              "      <th>XLY</th>\n",
              "    </tr>\n",
              "    <tr>\n",
              "      <th>Date</th>\n",
              "      <th></th>\n",
              "      <th></th>\n",
              "      <th></th>\n",
              "      <th></th>\n",
              "      <th></th>\n",
              "      <th></th>\n",
              "      <th></th>\n",
              "      <th></th>\n",
              "      <th></th>\n",
              "    </tr>\n",
              "  </thead>\n",
              "  <tbody>\n",
              "    <tr>\n",
              "      <th>2011-01-03 00:00:00-05:00</th>\n",
              "      <td>30.168970</td>\n",
              "      <td>45.762104</td>\n",
              "      <td>10.574044</td>\n",
              "      <td>27.754169</td>\n",
              "      <td>21.301203</td>\n",
              "      <td>21.268742</td>\n",
              "      <td>20.726189</td>\n",
              "      <td>25.937010</td>\n",
              "      <td>32.382446</td>\n",
              "    </tr>\n",
              "    <tr>\n",
              "      <th>2011-01-04 00:00:00-05:00</th>\n",
              "      <td>29.966394</td>\n",
              "      <td>45.369431</td>\n",
              "      <td>10.561074</td>\n",
              "      <td>27.714645</td>\n",
              "      <td>21.384834</td>\n",
              "      <td>21.210770</td>\n",
              "      <td>20.824915</td>\n",
              "      <td>26.018602</td>\n",
              "      <td>32.202770</td>\n",
              "    </tr>\n",
              "    <tr>\n",
              "      <th>2011-01-05 00:00:00-05:00</th>\n",
              "      <td>30.036514</td>\n",
              "      <td>45.549129</td>\n",
              "      <td>10.684328</td>\n",
              "      <td>27.856899</td>\n",
              "      <td>21.510288</td>\n",
              "      <td>21.218012</td>\n",
              "      <td>20.693275</td>\n",
              "      <td>26.075714</td>\n",
              "      <td>32.468002</td>\n",
              "    </tr>\n",
              "    <tr>\n",
              "      <th>2011-01-06 00:00:00-05:00</th>\n",
              "      <td>29.880682</td>\n",
              "      <td>45.116531</td>\n",
              "      <td>10.612967</td>\n",
              "      <td>27.809483</td>\n",
              "      <td>21.635735</td>\n",
              "      <td>21.145552</td>\n",
              "      <td>20.713020</td>\n",
              "      <td>26.181784</td>\n",
              "      <td>32.271217</td>\n",
              "    </tr>\n",
              "    <tr>\n",
              "      <th>2011-01-07 00:00:00-05:00</th>\n",
              "      <td>29.849527</td>\n",
              "      <td>45.442638</td>\n",
              "      <td>10.522152</td>\n",
              "      <td>27.864805</td>\n",
              "      <td>21.535372</td>\n",
              "      <td>21.036846</td>\n",
              "      <td>20.785419</td>\n",
              "      <td>26.165461</td>\n",
              "      <td>32.254105</td>\n",
              "    </tr>\n",
              "    <tr>\n",
              "      <th>...</th>\n",
              "      <td>...</td>\n",
              "      <td>...</td>\n",
              "      <td>...</td>\n",
              "      <td>...</td>\n",
              "      <td>...</td>\n",
              "      <td>...</td>\n",
              "      <td>...</td>\n",
              "      <td>...</td>\n",
              "      <td>...</td>\n",
              "    </tr>\n",
              "    <tr>\n",
              "      <th>2023-01-30 00:00:00-05:00</th>\n",
              "      <td>82.830002</td>\n",
              "      <td>89.139999</td>\n",
              "      <td>36.070000</td>\n",
              "      <td>100.150002</td>\n",
              "      <td>134.089996</td>\n",
              "      <td>72.949997</td>\n",
              "      <td>68.580002</td>\n",
              "      <td>131.660004</td>\n",
              "      <td>145.369995</td>\n",
              "    </tr>\n",
              "    <tr>\n",
              "      <th>2023-01-31 00:00:00-05:00</th>\n",
              "      <td>84.650002</td>\n",
              "      <td>89.930000</td>\n",
              "      <td>36.560001</td>\n",
              "      <td>101.849998</td>\n",
              "      <td>135.960007</td>\n",
              "      <td>73.739998</td>\n",
              "      <td>69.089996</td>\n",
              "      <td>133.360001</td>\n",
              "      <td>148.699997</td>\n",
              "    </tr>\n",
              "    <tr>\n",
              "      <th>2023-02-01 00:00:00-05:00</th>\n",
              "      <td>85.209999</td>\n",
              "      <td>88.160004</td>\n",
              "      <td>36.560001</td>\n",
              "      <td>102.589996</td>\n",
              "      <td>139.160004</td>\n",
              "      <td>74.330002</td>\n",
              "      <td>69.209999</td>\n",
              "      <td>133.990005</td>\n",
              "      <td>151.520004</td>\n",
              "    </tr>\n",
              "    <tr>\n",
              "      <th>2023-02-02 00:00:00-05:00</th>\n",
              "      <td>84.940002</td>\n",
              "      <td>86.150002</td>\n",
              "      <td>36.660000</td>\n",
              "      <td>103.389999</td>\n",
              "      <td>142.960007</td>\n",
              "      <td>73.690002</td>\n",
              "      <td>69.360001</td>\n",
              "      <td>133.080002</td>\n",
              "      <td>156.160004</td>\n",
              "    </tr>\n",
              "    <tr>\n",
              "      <th>2023-02-03 00:00:00-05:00</th>\n",
              "      <td>83.410004</td>\n",
              "      <td>85.959999</td>\n",
              "      <td>36.590000</td>\n",
              "      <td>102.849998</td>\n",
              "      <td>141.770004</td>\n",
              "      <td>73.400002</td>\n",
              "      <td>67.910004</td>\n",
              "      <td>132.690002</td>\n",
              "      <td>151.350006</td>\n",
              "    </tr>\n",
              "  </tbody>\n",
              "</table>\n",
              "<p>3043 rows × 9 columns</p>\n",
              "</div>\n",
              "      <button class=\"colab-df-convert\" onclick=\"convertToInteractive('df-30702e74-f1a8-47d7-b6d1-a9f599f4ffb8')\"\n",
              "              title=\"Convert this dataframe to an interactive table.\"\n",
              "              style=\"display:none;\">\n",
              "        \n",
              "  <svg xmlns=\"http://www.w3.org/2000/svg\" height=\"24px\"viewBox=\"0 0 24 24\"\n",
              "       width=\"24px\">\n",
              "    <path d=\"M0 0h24v24H0V0z\" fill=\"none\"/>\n",
              "    <path d=\"M18.56 5.44l.94 2.06.94-2.06 2.06-.94-2.06-.94-.94-2.06-.94 2.06-2.06.94zm-11 1L8.5 8.5l.94-2.06 2.06-.94-2.06-.94L8.5 2.5l-.94 2.06-2.06.94zm10 10l.94 2.06.94-2.06 2.06-.94-2.06-.94-.94-2.06-.94 2.06-2.06.94z\"/><path d=\"M17.41 7.96l-1.37-1.37c-.4-.4-.92-.59-1.43-.59-.52 0-1.04.2-1.43.59L10.3 9.45l-7.72 7.72c-.78.78-.78 2.05 0 2.83L4 21.41c.39.39.9.59 1.41.59.51 0 1.02-.2 1.41-.59l7.78-7.78 2.81-2.81c.8-.78.8-2.07 0-2.86zM5.41 20L4 18.59l7.72-7.72 1.47 1.35L5.41 20z\"/>\n",
              "  </svg>\n",
              "      </button>\n",
              "      \n",
              "  <style>\n",
              "    .colab-df-container {\n",
              "      display:flex;\n",
              "      flex-wrap:wrap;\n",
              "      gap: 12px;\n",
              "    }\n",
              "\n",
              "    .colab-df-convert {\n",
              "      background-color: #E8F0FE;\n",
              "      border: none;\n",
              "      border-radius: 50%;\n",
              "      cursor: pointer;\n",
              "      display: none;\n",
              "      fill: #1967D2;\n",
              "      height: 32px;\n",
              "      padding: 0 0 0 0;\n",
              "      width: 32px;\n",
              "    }\n",
              "\n",
              "    .colab-df-convert:hover {\n",
              "      background-color: #E2EBFA;\n",
              "      box-shadow: 0px 1px 2px rgba(60, 64, 67, 0.3), 0px 1px 3px 1px rgba(60, 64, 67, 0.15);\n",
              "      fill: #174EA6;\n",
              "    }\n",
              "\n",
              "    [theme=dark] .colab-df-convert {\n",
              "      background-color: #3B4455;\n",
              "      fill: #D2E3FC;\n",
              "    }\n",
              "\n",
              "    [theme=dark] .colab-df-convert:hover {\n",
              "      background-color: #434B5C;\n",
              "      box-shadow: 0px 1px 3px 1px rgba(0, 0, 0, 0.15);\n",
              "      filter: drop-shadow(0px 1px 2px rgba(0, 0, 0, 0.3));\n",
              "      fill: #FFFFFF;\n",
              "    }\n",
              "  </style>\n",
              "\n",
              "      <script>\n",
              "        const buttonEl =\n",
              "          document.querySelector('#df-30702e74-f1a8-47d7-b6d1-a9f599f4ffb8 button.colab-df-convert');\n",
              "        buttonEl.style.display =\n",
              "          google.colab.kernel.accessAllowed ? 'block' : 'none';\n",
              "\n",
              "        async function convertToInteractive(key) {\n",
              "          const element = document.querySelector('#df-30702e74-f1a8-47d7-b6d1-a9f599f4ffb8');\n",
              "          const dataTable =\n",
              "            await google.colab.kernel.invokeFunction('convertToInteractive',\n",
              "                                                     [key], {});\n",
              "          if (!dataTable) return;\n",
              "\n",
              "          const docLinkHtml = 'Like what you see? Visit the ' +\n",
              "            '<a target=\"_blank\" href=https://colab.research.google.com/notebooks/data_table.ipynb>data table notebook</a>'\n",
              "            + ' to learn more about interactive tables.';\n",
              "          element.innerHTML = '';\n",
              "          dataTable['output_type'] = 'display_data';\n",
              "          await google.colab.output.renderOutput(dataTable, element);\n",
              "          const docLink = document.createElement('div');\n",
              "          docLink.innerHTML = docLinkHtml;\n",
              "          element.appendChild(docLink);\n",
              "        }\n",
              "      </script>\n",
              "    </div>\n",
              "  </div>\n",
              "  "
            ]
          },
          "metadata": {},
          "execution_count": 4
        }
      ]
    },
    {
      "cell_type": "code",
      "source": [
        "# 알별 수익률 데이터\n",
        "rets = data.pct_change().fillna(0)\n",
        "\n",
        "# 기대수익률 계산\n",
        "er = rets.mean() * 252\n",
        "\n",
        "# 공분산행렬 계산\n",
        "cov = rets.cov() * 252\n"
      ],
      "metadata": {
        "id": "EhzZkhmVsugR"
      },
      "execution_count": 4,
      "outputs": []
    },
    {
      "cell_type": "code",
      "source": [
        "er"
      ],
      "metadata": {
        "colab": {
          "base_uri": "https://localhost:8080/"
        },
        "id": "jAruSuJ7I0Qs",
        "outputId": "ed7bcda4-a864-4256-b5b6-ae8837160b1f"
      },
      "execution_count": 6,
      "outputs": [
        {
          "output_type": "execute_result",
          "data": {
            "text/plain": [
              "XLB    0.104554\n",
              "XLE    0.092170\n",
              "XLF    0.127944\n",
              "XLI    0.128215\n",
              "XLK    0.178837\n",
              "XLP    0.112794\n",
              "XLU    0.114744\n",
              "XLV    0.148494\n",
              "XLY    0.147363\n",
              "dtype: float64"
            ]
          },
          "metadata": {},
          "execution_count": 6
        }
      ]
    },
    {
      "cell_type": "code",
      "source": [
        "cov"
      ],
      "metadata": {
        "id": "LSgqvHFLFkbV",
        "colab": {
          "base_uri": "https://localhost:8080/",
          "height": 331
        },
        "outputId": "37d24343-52f5-4141-ece5-ac01d8234883"
      },
      "execution_count": 5,
      "outputs": [
        {
          "output_type": "execute_result",
          "data": {
            "text/plain": [
              "          XLB       XLE       XLF       XLI       XLK       XLP       XLU  \\\n",
              "XLB  0.045299  0.044830  0.040384  0.037856  0.034616  0.020276  0.020270   \n",
              "XLE  0.044830  0.082535  0.046639  0.041544  0.033859  0.019719  0.020662   \n",
              "XLF  0.040384  0.046639  0.051669  0.040079  0.035794  0.021589  0.021079   \n",
              "XLI  0.037856  0.041544  0.040079  0.039723  0.033698  0.020325  0.020359   \n",
              "XLK  0.034616  0.033859  0.035794  0.033698  0.046859  0.020612  0.019218   \n",
              "XLP  0.020276  0.019719  0.021589  0.020325  0.020612  0.020396  0.018506   \n",
              "XLU  0.020270  0.020662  0.021079  0.020359  0.019218  0.018506  0.032140   \n",
              "XLV  0.025962  0.025968  0.027816  0.025521  0.027459  0.017804  0.017457   \n",
              "XLY  0.033369  0.033243  0.035408  0.032939  0.037852  0.019191  0.017872   \n",
              "\n",
              "          XLV       XLY  \n",
              "XLB  0.025962  0.033369  \n",
              "XLE  0.025968  0.033243  \n",
              "XLF  0.027816  0.035408  \n",
              "XLI  0.025521  0.032939  \n",
              "XLK  0.027459  0.037852  \n",
              "XLP  0.017804  0.019191  \n",
              "XLU  0.017457  0.017872  \n",
              "XLV  0.028271  0.024621  \n",
              "XLY  0.024621  0.040743  "
            ],
            "text/html": [
              "\n",
              "  <div id=\"df-1cd310f2-bfe2-46dc-a072-5945caa419c9\">\n",
              "    <div class=\"colab-df-container\">\n",
              "      <div>\n",
              "<style scoped>\n",
              "    .dataframe tbody tr th:only-of-type {\n",
              "        vertical-align: middle;\n",
              "    }\n",
              "\n",
              "    .dataframe tbody tr th {\n",
              "        vertical-align: top;\n",
              "    }\n",
              "\n",
              "    .dataframe thead th {\n",
              "        text-align: right;\n",
              "    }\n",
              "</style>\n",
              "<table border=\"1\" class=\"dataframe\">\n",
              "  <thead>\n",
              "    <tr style=\"text-align: right;\">\n",
              "      <th></th>\n",
              "      <th>XLB</th>\n",
              "      <th>XLE</th>\n",
              "      <th>XLF</th>\n",
              "      <th>XLI</th>\n",
              "      <th>XLK</th>\n",
              "      <th>XLP</th>\n",
              "      <th>XLU</th>\n",
              "      <th>XLV</th>\n",
              "      <th>XLY</th>\n",
              "    </tr>\n",
              "  </thead>\n",
              "  <tbody>\n",
              "    <tr>\n",
              "      <th>XLB</th>\n",
              "      <td>0.045299</td>\n",
              "      <td>0.044830</td>\n",
              "      <td>0.040384</td>\n",
              "      <td>0.037856</td>\n",
              "      <td>0.034616</td>\n",
              "      <td>0.020276</td>\n",
              "      <td>0.020270</td>\n",
              "      <td>0.025962</td>\n",
              "      <td>0.033369</td>\n",
              "    </tr>\n",
              "    <tr>\n",
              "      <th>XLE</th>\n",
              "      <td>0.044830</td>\n",
              "      <td>0.082535</td>\n",
              "      <td>0.046639</td>\n",
              "      <td>0.041544</td>\n",
              "      <td>0.033859</td>\n",
              "      <td>0.019719</td>\n",
              "      <td>0.020662</td>\n",
              "      <td>0.025968</td>\n",
              "      <td>0.033243</td>\n",
              "    </tr>\n",
              "    <tr>\n",
              "      <th>XLF</th>\n",
              "      <td>0.040384</td>\n",
              "      <td>0.046639</td>\n",
              "      <td>0.051669</td>\n",
              "      <td>0.040079</td>\n",
              "      <td>0.035794</td>\n",
              "      <td>0.021589</td>\n",
              "      <td>0.021079</td>\n",
              "      <td>0.027816</td>\n",
              "      <td>0.035408</td>\n",
              "    </tr>\n",
              "    <tr>\n",
              "      <th>XLI</th>\n",
              "      <td>0.037856</td>\n",
              "      <td>0.041544</td>\n",
              "      <td>0.040079</td>\n",
              "      <td>0.039723</td>\n",
              "      <td>0.033698</td>\n",
              "      <td>0.020325</td>\n",
              "      <td>0.020359</td>\n",
              "      <td>0.025521</td>\n",
              "      <td>0.032939</td>\n",
              "    </tr>\n",
              "    <tr>\n",
              "      <th>XLK</th>\n",
              "      <td>0.034616</td>\n",
              "      <td>0.033859</td>\n",
              "      <td>0.035794</td>\n",
              "      <td>0.033698</td>\n",
              "      <td>0.046859</td>\n",
              "      <td>0.020612</td>\n",
              "      <td>0.019218</td>\n",
              "      <td>0.027459</td>\n",
              "      <td>0.037852</td>\n",
              "    </tr>\n",
              "    <tr>\n",
              "      <th>XLP</th>\n",
              "      <td>0.020276</td>\n",
              "      <td>0.019719</td>\n",
              "      <td>0.021589</td>\n",
              "      <td>0.020325</td>\n",
              "      <td>0.020612</td>\n",
              "      <td>0.020396</td>\n",
              "      <td>0.018506</td>\n",
              "      <td>0.017804</td>\n",
              "      <td>0.019191</td>\n",
              "    </tr>\n",
              "    <tr>\n",
              "      <th>XLU</th>\n",
              "      <td>0.020270</td>\n",
              "      <td>0.020662</td>\n",
              "      <td>0.021079</td>\n",
              "      <td>0.020359</td>\n",
              "      <td>0.019218</td>\n",
              "      <td>0.018506</td>\n",
              "      <td>0.032140</td>\n",
              "      <td>0.017457</td>\n",
              "      <td>0.017872</td>\n",
              "    </tr>\n",
              "    <tr>\n",
              "      <th>XLV</th>\n",
              "      <td>0.025962</td>\n",
              "      <td>0.025968</td>\n",
              "      <td>0.027816</td>\n",
              "      <td>0.025521</td>\n",
              "      <td>0.027459</td>\n",
              "      <td>0.017804</td>\n",
              "      <td>0.017457</td>\n",
              "      <td>0.028271</td>\n",
              "      <td>0.024621</td>\n",
              "    </tr>\n",
              "    <tr>\n",
              "      <th>XLY</th>\n",
              "      <td>0.033369</td>\n",
              "      <td>0.033243</td>\n",
              "      <td>0.035408</td>\n",
              "      <td>0.032939</td>\n",
              "      <td>0.037852</td>\n",
              "      <td>0.019191</td>\n",
              "      <td>0.017872</td>\n",
              "      <td>0.024621</td>\n",
              "      <td>0.040743</td>\n",
              "    </tr>\n",
              "  </tbody>\n",
              "</table>\n",
              "</div>\n",
              "      <button class=\"colab-df-convert\" onclick=\"convertToInteractive('df-1cd310f2-bfe2-46dc-a072-5945caa419c9')\"\n",
              "              title=\"Convert this dataframe to an interactive table.\"\n",
              "              style=\"display:none;\">\n",
              "        \n",
              "  <svg xmlns=\"http://www.w3.org/2000/svg\" height=\"24px\"viewBox=\"0 0 24 24\"\n",
              "       width=\"24px\">\n",
              "    <path d=\"M0 0h24v24H0V0z\" fill=\"none\"/>\n",
              "    <path d=\"M18.56 5.44l.94 2.06.94-2.06 2.06-.94-2.06-.94-.94-2.06-.94 2.06-2.06.94zm-11 1L8.5 8.5l.94-2.06 2.06-.94-2.06-.94L8.5 2.5l-.94 2.06-2.06.94zm10 10l.94 2.06.94-2.06 2.06-.94-2.06-.94-.94-2.06-.94 2.06-2.06.94z\"/><path d=\"M17.41 7.96l-1.37-1.37c-.4-.4-.92-.59-1.43-.59-.52 0-1.04.2-1.43.59L10.3 9.45l-7.72 7.72c-.78.78-.78 2.05 0 2.83L4 21.41c.39.39.9.59 1.41.59.51 0 1.02-.2 1.41-.59l7.78-7.78 2.81-2.81c.8-.78.8-2.07 0-2.86zM5.41 20L4 18.59l7.72-7.72 1.47 1.35L5.41 20z\"/>\n",
              "  </svg>\n",
              "      </button>\n",
              "      \n",
              "  <style>\n",
              "    .colab-df-container {\n",
              "      display:flex;\n",
              "      flex-wrap:wrap;\n",
              "      gap: 12px;\n",
              "    }\n",
              "\n",
              "    .colab-df-convert {\n",
              "      background-color: #E8F0FE;\n",
              "      border: none;\n",
              "      border-radius: 50%;\n",
              "      cursor: pointer;\n",
              "      display: none;\n",
              "      fill: #1967D2;\n",
              "      height: 32px;\n",
              "      padding: 0 0 0 0;\n",
              "      width: 32px;\n",
              "    }\n",
              "\n",
              "    .colab-df-convert:hover {\n",
              "      background-color: #E2EBFA;\n",
              "      box-shadow: 0px 1px 2px rgba(60, 64, 67, 0.3), 0px 1px 3px 1px rgba(60, 64, 67, 0.15);\n",
              "      fill: #174EA6;\n",
              "    }\n",
              "\n",
              "    [theme=dark] .colab-df-convert {\n",
              "      background-color: #3B4455;\n",
              "      fill: #D2E3FC;\n",
              "    }\n",
              "\n",
              "    [theme=dark] .colab-df-convert:hover {\n",
              "      background-color: #434B5C;\n",
              "      box-shadow: 0px 1px 3px 1px rgba(0, 0, 0, 0.15);\n",
              "      filter: drop-shadow(0px 1px 2px rgba(0, 0, 0, 0.3));\n",
              "      fill: #FFFFFF;\n",
              "    }\n",
              "  </style>\n",
              "\n",
              "      <script>\n",
              "        const buttonEl =\n",
              "          document.querySelector('#df-1cd310f2-bfe2-46dc-a072-5945caa419c9 button.colab-df-convert');\n",
              "        buttonEl.style.display =\n",
              "          google.colab.kernel.accessAllowed ? 'block' : 'none';\n",
              "\n",
              "        async function convertToInteractive(key) {\n",
              "          const element = document.querySelector('#df-1cd310f2-bfe2-46dc-a072-5945caa419c9');\n",
              "          const dataTable =\n",
              "            await google.colab.kernel.invokeFunction('convertToInteractive',\n",
              "                                                     [key], {});\n",
              "          if (!dataTable) return;\n",
              "\n",
              "          const docLinkHtml = 'Like what you see? Visit the ' +\n",
              "            '<a target=\"_blank\" href=https://colab.research.google.com/notebooks/data_table.ipynb>data table notebook</a>'\n",
              "            + ' to learn more about interactive tables.';\n",
              "          element.innerHTML = '';\n",
              "          dataTable['output_type'] = 'display_data';\n",
              "          await google.colab.output.renderOutput(dataTable, element);\n",
              "          const docLink = document.createElement('div');\n",
              "          docLink.innerHTML = docLinkHtml;\n",
              "          element.appendChild(docLink);\n",
              "        }\n",
              "      </script>\n",
              "    </div>\n",
              "  </div>\n",
              "  "
            ]
          },
          "metadata": {},
          "execution_count": 5
        }
      ]
    },
    {
      "cell_type": "markdown",
      "source": [
        "### 포트폴리오 시뮬레이션"
      ],
      "metadata": {
        "id": "vk-MqWtlsxv4"
      }
    },
    {
      "cell_type": "code",
      "source": [
        "# 포트폴리오 수익률을 위한 빈 리스트 생성\n",
        "p_returns = []\n",
        "\n",
        "# 포트폴리오 변동성을 위한 빈 리스트 생성\n",
        "p_volatility = []"
      ],
      "metadata": {
        "id": "o2PZI6JYswO9"
      },
      "execution_count": 7,
      "outputs": []
    },
    {
      "cell_type": "code",
      "source": [
        "# 자산의 개수\n",
        "noa = len(tickers)\n",
        "\n",
        "# 시뮬레이션 횟수\n",
        "n_ports = 10000"
      ],
      "metadata": {
        "id": "dSN9xdFMs0eA"
      },
      "execution_count": 8,
      "outputs": []
    },
    {
      "cell_type": "code",
      "source": [
        "# for문을 돌려 10000개의 포트폴리오 시뮬레이션 실행\n",
        "for i in range(n_ports):\n",
        "\n",
        "    # 난수를 생성하여 임의의 투자 가중치 배분\n",
        "    weights = np.random.random(noa)\n",
        "    weights /= np.sum(weights) # 가중치 / 가중치의 합\n",
        "\n",
        "    # 포트폴리오 수익률과 변동성 계산\n",
        "    ret = np.dot(weights, er)\n",
        "    vol = np.sqrt(np.dot(weights.T, np.dot(cov, weights)))\n",
        "\n",
        "    # 1회 시뮬레이션을 통해 얻어낸 포트폴리오 수익률과 변동성 데이터를 리스트에 저장\n",
        "    p_returns.append(ret)\n",
        "    p_volatility.append(vol)"
      ],
      "metadata": {
        "id": "2f7rt2Jzs1ZI"
      },
      "execution_count": 9,
      "outputs": []
    },
    {
      "cell_type": "code",
      "source": [
        "# 포트폴리오 수익률 및 변동성 데이터 배열로 변환\n",
        "prets = np.array(p_returns)\n",
        "pvols = np.array(p_volatility)"
      ],
      "metadata": {
        "id": "kaXKODjQs2cj"
      },
      "execution_count": 10,
      "outputs": []
    },
    {
      "cell_type": "code",
      "source": [],
      "metadata": {
        "id": "W1CBJU55HKRN"
      },
      "execution_count": null,
      "outputs": []
    },
    {
      "cell_type": "markdown",
      "source": [
        "### 난수 생성을 통한 포트폴리오 시뮬레이션 시각화"
      ],
      "metadata": {
        "id": "2S5HHz0lkf0C"
      }
    },
    {
      "cell_type": "code",
      "source": [
        "# 산포도를 이용해 시뮬레이션 결과 시각화\n",
        "# 샤프비율을 높으면 높을 수록 밝은 색\n",
        "# 10000개의 투자가중치를 시물레이션을 돌렸을 떄 결과\n",
        "# x축: 포트폴리오 변동성\n",
        "# y축: 포트폴리오 수익률\n",
        "# 색깔: 포트폴리오 샤프비율\n",
        "plt.scatter(x=pvols, y=prets, c=prets/pvols, marker='o')\n",
        "\n",
        "# x축 제목\n",
        "plt.xlabel('Expected Volatility')\n",
        "\n",
        "# y축 제목\n",
        "plt.ylabel('Expected Returns')\n",
        "\n",
        "# 그래프 타이틀\n",
        "plt.title('Portfolio Simulation')\n",
        "\n",
        "# 그래프 생성\n",
        "plt.show()"
      ],
      "metadata": {
        "id": "-XRSNoGfs4CW",
        "colab": {
          "base_uri": "https://localhost:8080/",
          "height": 301
        },
        "outputId": "0fdbc03d-a311-4544-9651-da5313fe74e9"
      },
      "execution_count": 11,
      "outputs": [
        {
          "output_type": "display_data",
          "data": {
            "text/plain": [
              "<Figure size 432x288 with 1 Axes>"
            ],
            "image/png": "[encoded data removed]"
          },
          "metadata": {}
        }
      ]
    },
    {
      "cell_type": "markdown",
      "source": [
        "### 최적화 모듈 `scipy.optimize`\n",
        "파이썬의 `scipy` 패키지는 간단하게 최적화 계산을 수행할 수 있는 `optimize`라는 도구를 제공하고 있습니다. 이를 활용하면 우리는 최적화 계산을 수행하는 코드를 직접 만들 필요가 없습니다. 이 함수가 알아서 모든 계산 처리를 해주기 때문입니다. 우리는 최적화에 필요한 몇 가지 인자들을 함수에 넘겨주기만 하면 됩니다.\n",
        "\n",
        "\n",
        "### [`scipy.optimize.minimize`](https://docs.scipy.org/doc/scipy/reference/generated/scipy.optimize.minimize.html) 문법구조\n",
        "```python\n",
        "scipy.optimize.minimize(\n",
        "    fun: 목적함수\n",
        "    x0: 초기값\n",
        "    args: 초기값 외에 목적함수에 전달할 인자\n",
        "    method: 최적화를 수행할 알고리즘의 종류\n",
        "    bounds: 상하한 경계값\n",
        "    constraints: 제약조건\n",
        "    )\n",
        "```\n",
        "\n",
        "`scipy.optimize.minimize()`의 문법구조의 위와 같습니다. 우선 첫번째 인자는 최소화를 시켜주어야 하는 목적함수(`fun`)가 들어갑니다. 두번째로는 초깃값(`x0`)입니다. 이 초기값은 가중치에 대한 초기값으로써 순수하게 임의의 값이 들어갈 수 있습니다. 다만 일반적으로는 전체 자산에 대해 동일한 가중치를 넣어주는 것이 관행입니다. 이 초기값에서 시작해서 최적화 알고리즘은 시행착오 방식을 통해 최적의 가중치를 찾아 여행을 떠납니다. 세번째 인자는 목적함수에 전달해주어야 하는 인자(`args`)입니다. 가령 샤프비율 최소화가 목적함수라고 한다면 가중치 이외에도 샤프비율을 계산하기 위해 각 자산들의 기대수익률과 공분산행렬이 필요합니다. 네번째는 최적화를 수행할 알고리즘의 종류(`method`)입니다. VOD에서 다룬 것처럼 우리는 앞으로 SLSQP 알고리즘을 사용할 것이기 때문에 여기에는 `SLSQP`라고 적어주면 됩니다. 다섯번째는 상하한 경계값입니다. 여기서 말하는 상하한 경계값(`bnds`)은 각 가중치가 가질 수 있는 상하한값을 의미합니다. 롱온리 포트폴리오는 자산의 공매도를 가정하지 않기 때문에 이러한 조건을 여기에 적어주어야 합니다. 마지막으로는 제약조건(`constraints`)입니다. 여기서 말하는 제약조건은 전체 자산 가중치들의 합이 1이 되어야 한다거나 포트폴리오의 수익률이 특정 기대수익률 수준이 되어야 한다거나 하는 조건들을 말합니다. 파이썬 최적화 알고리즘은 목적함수와 제약조건을 명시적으로 알려주기만 하면 알아서 상황에 맞는 최적화 결과물을 산출해줍니다. 앞으로 다룰 여러 가지 횡적 배분 모델을 구현하는데 있어서 이러한 최적화 알고리즘은 필수적인 요소입니다."
      ],
      "metadata": {
        "id": "kMk3IbYWs7m3"
      }
    },
    {
      "cell_type": "markdown",
      "source": [
        "### 효율적 경계선 구현"
      ],
      "metadata": {
        "id": "9fs0RUZrtKUT"
      }
    },
    {
      "cell_type": "code",
      "source": [
        "# scipy 패키지 임포트\n",
        "import scipy.optimize as sco"
      ],
      "metadata": {
        "id": "ICn5-Huvs44B"
      },
      "execution_count": 12,
      "outputs": []
    },
    {
      "cell_type": "code",
      "source": [
        "# 포트폴리오 통계치 계산 함수\n",
        "def statistics(weights):\n",
        "\n",
        "    # 투자 가중치\n",
        "    weights = np.array(weights)\n",
        "\n",
        "    # 포트폴리오 수익률\n",
        "    pret = np.sum(er * weights)\n",
        "\n",
        "    # 포트폴리오 변동성\n",
        "    pvol = np.sqrt(np.dot(weights.T, np.dot(cov, weights)))\n",
        "\n",
        "    # 포트폴리오 수익률과 변동성, 샤프비율을 반환W\n",
        "    return np.array([pret, pvol, pret/pvol])"
      ],
      "metadata": {
        "id": "Y402w4mVtMWW"
      },
      "execution_count": 13,
      "outputs": []
    },
    {
      "cell_type": "code",
      "source": [
        "# 난수를 활용해 임의의 가중치 데이터 생성\n",
        "weights = np.random.random(noa)\n",
        "weights /= np.sum(weights)"
      ],
      "metadata": {
        "id": "QN-m-EKStNqf"
      },
      "execution_count": 14,
      "outputs": []
    },
    {
      "cell_type": "code",
      "source": [
        "np.sum(weights)"
      ],
      "metadata": {
        "id": "YBjB5pSXJQr3",
        "colab": {
          "base_uri": "https://localhost:8080/"
        },
        "outputId": "9b755fec-acc0-49f9-d0ed-195642f82e5b"
      },
      "execution_count": 15,
      "outputs": [
        {
          "output_type": "execute_result",
          "data": {
            "text/plain": [
              "1.0"
            ]
          },
          "metadata": {},
          "execution_count": 15
        }
      ]
    },
    {
      "cell_type": "code",
      "source": [
        "# 목적함수 정의\n",
        "# 여기서 목적함수는 포트폴리오 변동성\n",
        "def obj_func(weights):\n",
        "    return statistics(weights)[1]"
      ],
      "metadata": {
        "id": "u4q8WDm5tO91"
      },
      "execution_count": 20,
      "outputs": []
    },
    {
      "cell_type": "code",
      "source": [
        "# 수익률 수준별 포트폴리오 최적화 수행\n",
        "trets = np.linspace(0.09, 0.16, 50) # 9%부터 16퍼센트 까지 그리고 50개 포트폴리오\n",
        "tvols = []\n",
        "\n",
        "# for문을 돌려 각 목표수익률에 맞는 포트폴리오 변동성 레벨을 계산\n",
        "for tret in trets:\n",
        "\n",
        "    # 투자 가중치 초기값 = 동일가중 # 1/종목개수 = 초기값 \n",
        "    init_guess = np.repeat(1/noa, noa)\n",
        "\n",
        "    # 제약조건 (포트폴리오 목표 수익률, 현금 보유 비중 0) : 전체 ETF의 가중치가 100% 설정\n",
        "    cons = ({'type': 'eq', 'fun': lambda x: statistics(x)[0] - tret}, # 0번쨰값이 수익률\n",
        "            {'type': 'eq', 'fun': lambda x: np.sum(x) - 1})  #x의 전체값이 1과 같아야 한다\n",
        "\n",
        "    # 자산별 경계조건 (숏 포지션 불가능)\n",
        "    bnds = tuple((0.0, 1.0) for x in weights)\n",
        "\n",
        "    # 최적화 알고리즘 수행\n",
        "    res = sco.minimize(obj_func, #목적함수\n",
        "                       init_guess, #초창기 값\n",
        "                       method='SLSQP', # 최적화 함수\n",
        "                       bounds=bnds,  #바운더리\n",
        "                       constraints=cons) #제약조건\n",
        "    \n",
        "\n",
        "    # 최적화 알고리즘을 통해 찾아낸 최적 포트폴리오의 변동성 값을 리스트에 저장\n",
        "    tvols.append(res['fun']) #최종결과값 : 포트폴리오 변동값이 들어간다.\n",
        "\n",
        "# 포트폴리오 변동성 리스트를 배열로 변환\n",
        "tvols = np.array(tvols)"
      ],
      "metadata": {
        "id": "JEC243zntPvL"
      },
      "execution_count": 21,
      "outputs": []
    },
    {
      "cell_type": "code",
      "source": [
        "# 좌측 경계선 데이터 수집\n",
        "ind = np.argmin(tvols)\n",
        "evols = tvols[ind:]\n",
        "erets = trets[ind:]"
      ],
      "metadata": {
        "id": "Y4vwaf31tQ22"
      },
      "execution_count": 22,
      "outputs": []
    },
    {
      "cell_type": "code",
      "source": [
        "# 효율적 경계선 시각화\n",
        "plt.figure(figsize=(8, 8))\n",
        "plt.scatter(tvols, trets, c=trets/tvols, marker='x')\n",
        "plt.plot(evols, erets, 'r', lw=1.0)\n",
        "plt.grid(True)\n",
        "\n",
        "plt.xlabel('Expected Volatility')\n",
        "plt.ylabel('Expected Return')\n",
        "plt.title('Efficient Frontier')"
      ],
      "metadata": {
        "id": "DMPZ1wQytR5j",
        "colab": {
          "base_uri": "https://localhost:8080/",
          "height": 535
        },
        "outputId": "0a774032-47c1-41a5-854b-8bfda1d6ea27"
      },
      "execution_count": null,
      "outputs": [
        {
          "output_type": "execute_result",
          "data": {
            "text/plain": [
              "Text(0.5, 1.0, 'Efficient Frontier')"
            ]
          },
          "metadata": {},
          "execution_count": 19
        },
        {
          "output_type": "display_data",
          "data": {
            "text/plain": [
              "<Figure size 576x576 with 1 Axes>"
            ],
            "image/png": "[encoded data removed]"
          },
          "metadata": {}
        }
      ]
    },
    {
      "cell_type": "code",
      "source": [
        "#x는 50개의 시뮬레이션을 돌렸을 때, 각각의 타겟레벨에 대해서 변동성이 가장 작은 포지션\n",
        "#선부터가 유의미한 값들"
      ],
      "metadata": {
        "id": "gxubNQtPtS16"
      },
      "execution_count": null,
      "outputs": []
    }
  ]
}