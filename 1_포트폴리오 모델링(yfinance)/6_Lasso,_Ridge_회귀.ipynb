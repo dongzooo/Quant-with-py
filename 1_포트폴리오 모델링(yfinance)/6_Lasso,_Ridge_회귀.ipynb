{
  "nbformat": 4,
  "nbformat_minor": 0,
  "metadata": {
    "colab": {
      "provenance": [],
      "include_colab_link": true
    },
    "kernelspec": {
      "name": "python3",
      "display_name": "Python 3"
    },
    "language_info": {
      "name": "python"
    }
  },
  "cells": [
    {
      "cell_type": "markdown",
      "metadata": {
        "id": "view-in-github",
        "colab_type": "text"
      },
      "source": [
        "<a href=\"https://colab.research.google.com/github/dongzooo/Quant-with-py/blob/main/1_%ED%8F%AC%ED%8A%B8%ED%8F%B4%EB%A6%AC%EC%98%A4%20%EB%AA%A8%EB%8D%B8%EB%A7%81(yfinance)/6_Lasso%2C_Ridge_%ED%9A%8C%EA%B7%80.ipynb\" target=\"_parent\"><img src=\"https://colab.research.google.com/assets/colab-badge.svg\" alt=\"Open In Colab\"/></a>"
      ]
    },
    {
      "cell_type": "code",
      "source": [
        "# 패키지 설치: yfinance, getFamaFrenchFactors\n",
        "!pip install yfinance --quiet\n",
        "!pip install getFamaFrenchFactors --quiet"
      ],
      "metadata": {
        "id": "iE4-ePc_1Zkm",
        "colab": {
          "base_uri": "https://localhost:8080/"
        },
        "outputId": "a6ffc577-52cf-4732-df57-496c62b33610"
      },
      "execution_count": null,
      "outputs": [
        {
          "output_type": "stream",
          "name": "stdout",
          "text": [
            "\u001b[2K     \u001b[90m━━━━━━━━━━━━━━━━━━━━━━━━━━━━━━━━━━━━━━━━\u001b[0m \u001b[32m55.9/55.9 KB\u001b[0m \u001b[31m1.7 MB/s\u001b[0m eta \u001b[36m0:00:00\u001b[0m\n",
            "\u001b[2K     \u001b[90m━━━━━━━━━━━━━━━━━━━━━━━━━━━━━━━━━━━━━━━\u001b[0m \u001b[32m129.4/129.4 KB\u001b[0m \u001b[31m5.2 MB/s\u001b[0m eta \u001b[36m0:00:00\u001b[0m\n",
            "\u001b[2K     \u001b[90m━━━━━━━━━━━━━━━━━━━━━━━━━━━━━━━━━━━━━━━━\u001b[0m \u001b[32m62.8/62.8 KB\u001b[0m \u001b[31m3.6 MB/s\u001b[0m eta \u001b[36m0:00:00\u001b[0m\n",
            "\u001b[2K     \u001b[90m━━━━━━━━━━━━━━━━━━━━━━━━━━━━━━━━━━━━━━━\u001b[0m \u001b[32m111.0/111.0 KB\u001b[0m \u001b[31m7.5 MB/s\u001b[0m eta \u001b[36m0:00:00\u001b[0m\n",
            "\u001b[2K     \u001b[90m━━━━━━━━━━━━━━━━━━━━━━━━━━━━━━━━━━━━━━━\u001b[0m \u001b[32m112.2/112.2 KB\u001b[0m \u001b[31m7.2 MB/s\u001b[0m eta \u001b[36m0:00:00\u001b[0m\n",
            "\u001b[2K     \u001b[90m━━━━━━━━━━━━━━━━━━━━━━━━━━━━━━━━━━━━━━━━\u001b[0m \u001b[32m4.2/4.2 MB\u001b[0m \u001b[31m31.2 MB/s\u001b[0m eta \u001b[36m0:00:00\u001b[0m\n",
            "\u001b[?25h"
          ]
        }
      ]
    },
    {
      "cell_type": "code",
      "source": [
        "# 패키지 임포트: numpy, pandas, yfinance, matplotlib, seaborn, statsmodels, getFamaFrenchFactors, sklearn\n",
        "import numpy as np\n",
        "import pandas as pd\n",
        "import yfinance as yf\n",
        "import matplotlib.pyplot as plt\n",
        "import seaborn as sns\n",
        "import statsmodels.api as sm\n",
        "import getFamaFrenchFactors as gff\n",
        "from sklearn.linear_model import Ridge, Lasso\n",
        "sns.set()"
      ],
      "metadata": {
        "id": "Qk6lC27RwD9o"
      },
      "execution_count": null,
      "outputs": []
    },
    {
      "cell_type": "code",
      "source": [
        "# 주가 데이터 다운로드\n",
        "# 애플 주식 티커\n",
        "ticker = 'AAPL'\n",
        "\n",
        "# 시작일, 종료일\n",
        "start = '2001-01-01'\n",
        "end = '2022-10-12'\n",
        "\n",
        "# 주가 데이터 다운로드\n",
        "stock_data = yf.download(ticker, start, end)\n",
        "\n",
        "# 주가 수익률 계산\n",
        "stock_returns = stock_data['Adj Close'].resample('M').last().pct_change().dropna()\n",
        "stock_returns.name = 'Month_Rtn'\n",
        "stock_returns.index = pd.to_datetime(stock_returns.index).date"
      ],
      "metadata": {
        "id": "t0H5U33A1aZL",
        "colab": {
          "base_uri": "https://localhost:8080/"
        },
        "outputId": "7c7374b3-e36a-42c3-8bd5-c18dcf4fac74"
      },
      "execution_count": null,
      "outputs": [
        {
          "output_type": "stream",
          "name": "stdout",
          "text": [
            "\r[*********************100%***********************]  1 of 1 completed\n"
          ]
        }
      ]
    },
    {
      "cell_type": "code",
      "source": [
        "# 파마-프렌치 3 팩터 데이터 다운로드\n",
        "ff3_monthly = gff.famaFrench3Factor(frequency='m')\n",
        "ff3_monthly.rename(columns={'date_ff_factors': 'Date'}, inplace=True)\n",
        "ff3_monthly.set_index('Date', inplace=True)\n",
        "ff3_monthly.index = pd.to_datetime(ff3_monthly.index).date\n",
        "\n",
        "# 주가 데이터와 팩터 데이터 병합\n",
        "ff_data = pd.concat([ff3_monthly, stock_returns], axis=1, join='inner')"
      ],
      "metadata": {
        "id": "98RO92oO1bpq"
      },
      "execution_count": null,
      "outputs": []
    },
    {
      "cell_type": "code",
      "source": [
        "# ff_data 데이터프레임 칼럼 이름 변경\n",
        "ff_data.columns = ['beta', 'size', 'value', 'rf', 'ret']\n",
        "\n",
        "# 결과\n",
        "ff_data"
      ],
      "metadata": {
        "id": "_wCs9wqnAYeX",
        "colab": {
          "base_uri": "https://localhost:8080/",
          "height": 423
        },
        "outputId": "0e16773d-1543-4d9e-fd7d-943c52afdab2"
      },
      "execution_count": null,
      "outputs": [
        {
          "output_type": "execute_result",
          "data": {
            "text/plain": [
              "              beta    size   value      rf       ret\n",
              "2001-02-28 -0.1005 -0.0079  0.1248  0.0038 -0.156070\n",
              "2001-03-31 -0.0726  0.0024  0.0642  0.0042  0.209314\n",
              "2001-04-30  0.0794  0.0055 -0.0468  0.0039  0.154963\n",
              "2001-05-31  0.0072  0.0249  0.0338  0.0032 -0.217341\n",
              "2001-06-30 -0.0194  0.0624 -0.0113  0.0028  0.165415\n",
              "...            ...     ...     ...     ...       ...\n",
              "2022-06-30 -0.0843  0.0209 -0.0597  0.0006 -0.081430\n",
              "2022-07-31  0.0957  0.0281 -0.0410  0.0008  0.188634\n",
              "2022-08-31 -0.0377  0.0139  0.0031  0.0019 -0.031208\n",
              "2022-09-30 -0.0935 -0.0082  0.0003  0.0019 -0.120977\n",
              "2022-10-31  0.0783  0.0010  0.0805  0.0023  0.005644\n",
              "\n",
              "[261 rows x 5 columns]"
            ],
            "text/html": [
              "\n",
              "  <div id=\"df-bf0fcdc8-cbf7-4ab9-88b1-e21a2ce112c4\">\n",
              "    <div class=\"colab-df-container\">\n",
              "      <div>\n",
              "<style scoped>\n",
              "    .dataframe tbody tr th:only-of-type {\n",
              "        vertical-align: middle;\n",
              "    }\n",
              "\n",
              "    .dataframe tbody tr th {\n",
              "        vertical-align: top;\n",
              "    }\n",
              "\n",
              "    .dataframe thead th {\n",
              "        text-align: right;\n",
              "    }\n",
              "</style>\n",
              "<table border=\"1\" class=\"dataframe\">\n",
              "  <thead>\n",
              "    <tr style=\"text-align: right;\">\n",
              "      <th></th>\n",
              "      <th>beta</th>\n",
              "      <th>size</th>\n",
              "      <th>value</th>\n",
              "      <th>rf</th>\n",
              "      <th>ret</th>\n",
              "    </tr>\n",
              "  </thead>\n",
              "  <tbody>\n",
              "    <tr>\n",
              "      <th>2001-02-28</th>\n",
              "      <td>-0.1005</td>\n",
              "      <td>-0.0079</td>\n",
              "      <td>0.1248</td>\n",
              "      <td>0.0038</td>\n",
              "      <td>-0.156070</td>\n",
              "    </tr>\n",
              "    <tr>\n",
              "      <th>2001-03-31</th>\n",
              "      <td>-0.0726</td>\n",
              "      <td>0.0024</td>\n",
              "      <td>0.0642</td>\n",
              "      <td>0.0042</td>\n",
              "      <td>0.209314</td>\n",
              "    </tr>\n",
              "    <tr>\n",
              "      <th>2001-04-30</th>\n",
              "      <td>0.0794</td>\n",
              "      <td>0.0055</td>\n",
              "      <td>-0.0468</td>\n",
              "      <td>0.0039</td>\n",
              "      <td>0.154963</td>\n",
              "    </tr>\n",
              "    <tr>\n",
              "      <th>2001-05-31</th>\n",
              "      <td>0.0072</td>\n",
              "      <td>0.0249</td>\n",
              "      <td>0.0338</td>\n",
              "      <td>0.0032</td>\n",
              "      <td>-0.217341</td>\n",
              "    </tr>\n",
              "    <tr>\n",
              "      <th>2001-06-30</th>\n",
              "      <td>-0.0194</td>\n",
              "      <td>0.0624</td>\n",
              "      <td>-0.0113</td>\n",
              "      <td>0.0028</td>\n",
              "      <td>0.165415</td>\n",
              "    </tr>\n",
              "    <tr>\n",
              "      <th>...</th>\n",
              "      <td>...</td>\n",
              "      <td>...</td>\n",
              "      <td>...</td>\n",
              "      <td>...</td>\n",
              "      <td>...</td>\n",
              "    </tr>\n",
              "    <tr>\n",
              "      <th>2022-06-30</th>\n",
              "      <td>-0.0843</td>\n",
              "      <td>0.0209</td>\n",
              "      <td>-0.0597</td>\n",
              "      <td>0.0006</td>\n",
              "      <td>-0.081430</td>\n",
              "    </tr>\n",
              "    <tr>\n",
              "      <th>2022-07-31</th>\n",
              "      <td>0.0957</td>\n",
              "      <td>0.0281</td>\n",
              "      <td>-0.0410</td>\n",
              "      <td>0.0008</td>\n",
              "      <td>0.188634</td>\n",
              "    </tr>\n",
              "    <tr>\n",
              "      <th>2022-08-31</th>\n",
              "      <td>-0.0377</td>\n",
              "      <td>0.0139</td>\n",
              "      <td>0.0031</td>\n",
              "      <td>0.0019</td>\n",
              "      <td>-0.031208</td>\n",
              "    </tr>\n",
              "    <tr>\n",
              "      <th>2022-09-30</th>\n",
              "      <td>-0.0935</td>\n",
              "      <td>-0.0082</td>\n",
              "      <td>0.0003</td>\n",
              "      <td>0.0019</td>\n",
              "      <td>-0.120977</td>\n",
              "    </tr>\n",
              "    <tr>\n",
              "      <th>2022-10-31</th>\n",
              "      <td>0.0783</td>\n",
              "      <td>0.0010</td>\n",
              "      <td>0.0805</td>\n",
              "      <td>0.0023</td>\n",
              "      <td>0.005644</td>\n",
              "    </tr>\n",
              "  </tbody>\n",
              "</table>\n",
              "<p>261 rows × 5 columns</p>\n",
              "</div>\n",
              "      <button class=\"colab-df-convert\" onclick=\"convertToInteractive('df-bf0fcdc8-cbf7-4ab9-88b1-e21a2ce112c4')\"\n",
              "              title=\"Convert this dataframe to an interactive table.\"\n",
              "              style=\"display:none;\">\n",
              "        \n",
              "  <svg xmlns=\"http://www.w3.org/2000/svg\" height=\"24px\"viewBox=\"0 0 24 24\"\n",
              "       width=\"24px\">\n",
              "    <path d=\"M0 0h24v24H0V0z\" fill=\"none\"/>\n",
              "    <path d=\"M18.56 5.44l.94 2.06.94-2.06 2.06-.94-2.06-.94-.94-2.06-.94 2.06-2.06.94zm-11 1L8.5 8.5l.94-2.06 2.06-.94-2.06-.94L8.5 2.5l-.94 2.06-2.06.94zm10 10l.94 2.06.94-2.06 2.06-.94-2.06-.94-.94-2.06-.94 2.06-2.06.94z\"/><path d=\"M17.41 7.96l-1.37-1.37c-.4-.4-.92-.59-1.43-.59-.52 0-1.04.2-1.43.59L10.3 9.45l-7.72 7.72c-.78.78-.78 2.05 0 2.83L4 21.41c.39.39.9.59 1.41.59.51 0 1.02-.2 1.41-.59l7.78-7.78 2.81-2.81c.8-.78.8-2.07 0-2.86zM5.41 20L4 18.59l7.72-7.72 1.47 1.35L5.41 20z\"/>\n",
              "  </svg>\n",
              "      </button>\n",
              "      \n",
              "  <style>\n",
              "    .colab-df-container {\n",
              "      display:flex;\n",
              "      flex-wrap:wrap;\n",
              "      gap: 12px;\n",
              "    }\n",
              "\n",
              "    .colab-df-convert {\n",
              "      background-color: #E8F0FE;\n",
              "      border: none;\n",
              "      border-radius: 50%;\n",
              "      cursor: pointer;\n",
              "      display: none;\n",
              "      fill: #1967D2;\n",
              "      height: 32px;\n",
              "      padding: 0 0 0 0;\n",
              "      width: 32px;\n",
              "    }\n",
              "\n",
              "    .colab-df-convert:hover {\n",
              "      background-color: #E2EBFA;\n",
              "      box-shadow: 0px 1px 2px rgba(60, 64, 67, 0.3), 0px 1px 3px 1px rgba(60, 64, 67, 0.15);\n",
              "      fill: #174EA6;\n",
              "    }\n",
              "\n",
              "    [theme=dark] .colab-df-convert {\n",
              "      background-color: #3B4455;\n",
              "      fill: #D2E3FC;\n",
              "    }\n",
              "\n",
              "    [theme=dark] .colab-df-convert:hover {\n",
              "      background-color: #434B5C;\n",
              "      box-shadow: 0px 1px 3px 1px rgba(0, 0, 0, 0.15);\n",
              "      filter: drop-shadow(0px 1px 2px rgba(0, 0, 0, 0.3));\n",
              "      fill: #FFFFFF;\n",
              "    }\n",
              "  </style>\n",
              "\n",
              "      <script>\n",
              "        const buttonEl =\n",
              "          document.querySelector('#df-bf0fcdc8-cbf7-4ab9-88b1-e21a2ce112c4 button.colab-df-convert');\n",
              "        buttonEl.style.display =\n",
              "          google.colab.kernel.accessAllowed ? 'block' : 'none';\n",
              "\n",
              "        async function convertToInteractive(key) {\n",
              "          const element = document.querySelector('#df-bf0fcdc8-cbf7-4ab9-88b1-e21a2ce112c4');\n",
              "          const dataTable =\n",
              "            await google.colab.kernel.invokeFunction('convertToInteractive',\n",
              "                                                     [key], {});\n",
              "          if (!dataTable) return;\n",
              "\n",
              "          const docLinkHtml = 'Like what you see? Visit the ' +\n",
              "            '<a target=\"_blank\" href=https://colab.research.google.com/notebooks/data_table.ipynb>data table notebook</a>'\n",
              "            + ' to learn more about interactive tables.';\n",
              "          element.innerHTML = '';\n",
              "          dataTable['output_type'] = 'display_data';\n",
              "          await google.colab.output.renderOutput(dataTable, element);\n",
              "          const docLink = document.createElement('div');\n",
              "          docLink.innerHTML = docLinkHtml;\n",
              "          element.appendChild(docLink);\n",
              "        }\n",
              "      </script>\n",
              "    </div>\n",
              "  </div>\n",
              "  "
            ]
          },
          "metadata": {},
          "execution_count": 6
        }
      ]
    },
    {
      "cell_type": "code",
      "source": [
        "# 회귀분석을 위한 설명변수와 종속변수 설정\n",
        "# 설명변수: 팩터 데이터\n",
        "# 종속변수: 주가 초과수익률\n",
        "X = ff_data[['beta', 'size', 'value']]\n",
        "y = ff_data['ret'] - ff_data['rf']\n",
        "\n",
        "#alpha값은 패널티 항\n",
        "\n",
        "# RIdge 회귀분석\n",
        "ridge = Ridge(alpha=0.1)\n",
        "ridge.fit(X, y)\n",
        "print(ridge.coef_, ridge.intercept_)\n",
        "\n",
        "# Lasso 회귀분석\n",
        "lasso = Lasso(alpha=0.001)\n",
        "lasso.fit(X, y)\n",
        "print(lasso.coef_, lasso.intercept_)"
      ],
      "metadata": {
        "id": "5OdHzCFz1e9L",
        "colab": {
          "base_uri": "https://localhost:8080/"
        },
        "outputId": "fd87f055-39ff-41ca-acf6-e3d1a99d8139"
      },
      "execution_count": null,
      "outputs": [
        {
          "output_type": "stream",
          "name": "stdout",
          "text": [
            "[ 1.0177885   0.08177635 -0.42693921] 0.02177509478943435\n",
            "[ 0.72249422  0.         -0.        ] 0.023149386333950316\n"
          ]
        }
      ]
    },
    {
      "cell_type": "code",
      "source": [
        "# Ridge 회귀분석 계수 저장을 위한 빈 리스트\n",
        "ridge_coef_list = []\n",
        "\n",
        "# 패러미터의 범위 설정\n",
        "alpha_arr = np.linspace(0.0, 4.0, 100)\n",
        "\n",
        "# 패러미터 변화에 따른 Ridge 회귀분석\n",
        "for alpha in alpha_arr:\n",
        "    ridge = Ridge(alpha=alpha)\n",
        "    ridge.fit(X, y)\n",
        "    ridge_coef_list.append(ridge.coef_)"
      ],
      "metadata": {
        "id": "BZwEvsG82RNQ"
      },
      "execution_count": null,
      "outputs": []
    },
    {
      "cell_type": "code",
      "source": [
        "# 회귀분석 계수 데이터프레임\n",
        "ridge_df = pd.DataFrame(ridge_coef_list, index=alpha_arr, columns=['Market', 'Size', 'Value'])\n",
        "\n",
        "# 분석 결과 시각화\n",
        "ridge_df.plot()\n",
        "plt.title('Impact of Ridge Regularization')\n",
        "plt.xlabel('Penalty')\n",
        "plt.ylabel('Coefficient')\n",
        "\n",
        "#마켓의 영향이 가장 강하다. 결국은 one factor모델을 쓴다면 마켓을 사용해야한다."
      ],
      "metadata": {
        "id": "UylP_Isg2z2k",
        "colab": {
          "base_uri": "https://localhost:8080/",
          "height": 318
        },
        "outputId": "59320737-cbf3-414e-9dcc-e9c9532d27db"
      },
      "execution_count": null,
      "outputs": [
        {
          "output_type": "execute_result",
          "data": {
            "text/plain": [
              "Text(0, 0.5, 'Coefficient')"
            ]
          },
          "metadata": {},
          "execution_count": 9
        },
        {
          "output_type": "display_data",
          "data": {
            "text/plain": [
              "<Figure size 432x288 with 1 Axes>"
            ],
            "image/png": "[encoded data removed]"
          },
          "metadata": {}
        }
      ]
    },
    {
      "cell_type": "code",
      "execution_count": null,
      "metadata": {
        "id": "248ZgREOWIbk",
        "colab": {
          "base_uri": "https://localhost:8080/"
        },
        "outputId": "58fe3967-404f-41a6-bb1c-334247f90b19"
      },
      "outputs": [
        {
          "output_type": "stream",
          "name": "stderr",
          "text": [
            "<ipython-input-10-4f5142830c34>:10: UserWarning: With alpha=0, this algorithm does not converge well. You are advised to use the LinearRegression estimator\n",
            "  lasso.fit(X, y)\n",
            "/usr/local/lib/python3.8/dist-packages/sklearn/linear_model/_coordinate_descent.py:647: UserWarning: Coordinate descent with no regularization may lead to unexpected results and is discouraged.\n",
            "  model = cd_fast.enet_coordinate_descent(\n",
            "/usr/local/lib/python3.8/dist-packages/sklearn/linear_model/_coordinate_descent.py:647: ConvergenceWarning: Objective did not converge. You might want to increase the number of iterations, check the scale of the features or consider increasing regularisation. Duality gap: 8.651e-01, tolerance: 2.614e-04 Linear regression models with null weight for the l1 regularization term are more efficiently fitted using one of the solvers implemented in sklearn.linear_model.Ridge/RidgeCV instead.\n",
            "  model = cd_fast.enet_coordinate_descent(\n"
          ]
        }
      ],
      "source": [
        "# Lasso 회귀분석 계수 저장을 위한 빈 리스트\n",
        "lasso_coef_list = []\n",
        "\n",
        "# 패러미터의 범위 설정\n",
        "alpha_arr = np.linspace(0.000, 0.010, 100)\n",
        "\n",
        "# 패러미터 변화에 따른 Lasso 회귀분석\n",
        "for alpha in alpha_arr:\n",
        "    lasso = Lasso(alpha=alpha)\n",
        "    lasso.fit(X, y)\n",
        "    lasso_coef_list.append(lasso.coef_)"
      ]
    },
    {
      "cell_type": "code",
      "source": [
        "# 회귀분석 계수 데이터프레임\n",
        "lasso_df = pd.DataFrame(lasso_coef_list, index=alpha_arr, columns=['Market', 'Size', 'Value'])\n",
        "\n",
        "# 분석 결과 시각화\n",
        "lasso_df.plot()\n",
        "plt.title('Impact of Lasso Regularization')\n",
        "plt.xlabel('Penalty')\n",
        "plt.ylabel('Coefficient')\n",
        "\n",
        "#결국은 요인 펙터를 많이써도 오버피팅이 될 수 있다. 좀 단순하게 만들고 힌트를 얻고자 하면 즉, 영향이 없는 요인들을 골라내고자 할 떄 Lasso, Ridge 활용할 수 있다."
      ],
      "metadata": {
        "id": "jy61a98iWpPx",
        "colab": {
          "base_uri": "https://localhost:8080/",
          "height": 318
        },
        "outputId": "7620921b-4fe9-45d9-9aa7-538183c6ba21"
      },
      "execution_count": null,
      "outputs": [
        {
          "output_type": "execute_result",
          "data": {
            "text/plain": [
              "Text(0, 0.5, 'Coefficient')"
            ]
          },
          "metadata": {},
          "execution_count": 11
        },
        {
          "output_type": "display_data",
          "data": {
            "text/plain": [
              "<Figure size 432x288 with 1 Axes>"
            ],
            "image/png": "[encoded data removed]"
          },
          "metadata": {}
        }
      ]
    },
    {
      "cell_type": "code",
      "source": [],
      "metadata": {
        "id": "R0cKTztb_5RL"
      },
      "execution_count": null,
      "outputs": []
    }
  ]
}