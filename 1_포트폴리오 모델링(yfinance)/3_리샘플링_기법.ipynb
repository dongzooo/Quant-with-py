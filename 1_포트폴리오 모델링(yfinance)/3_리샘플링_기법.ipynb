{
  "nbformat": 4,
  "nbformat_minor": 0,
  "metadata": {
    "colab": {
      "provenance": [],
      "include_colab_link": true
    },
    "kernelspec": {
      "name": "python3",
      "display_name": "Python 3"
    },
    "language_info": {
      "name": "python"
    }
  },
  "cells": [
    {
      "cell_type": "markdown",
      "metadata": {
        "id": "view-in-github",
        "colab_type": "text"
      },
      "source": [
        "<a href=\"https://colab.research.google.com/github/dongzooo/Quant-with-py/blob/main/1_%ED%8F%AC%ED%8A%B8%ED%8F%B4%EB%A6%AC%EC%98%A4%20%EB%AA%A8%EB%8D%B8%EB%A7%81(yfinance)/3_%EB%A6%AC%EC%83%98%ED%94%8C%EB%A7%81_%EA%B8%B0%EB%B2%95.ipynb\" target=\"_parent\"><img src=\"https://colab.research.google.com/assets/colab-badge.svg\" alt=\"Open In Colab\"/></a>"
      ]
    },
    {
      "cell_type": "code",
      "source": [
        "# 패키지 설치\n",
        "!pip install yfinance --quiet"
      ],
      "metadata": {
        "id": "mcgh11NRUY8E",
        "colab": {
          "base_uri": "https://localhost:8080/"
        },
        "outputId": "0e168976-a324-4457-a30f-30b7fa69d294"
      },
      "execution_count": null,
      "outputs": [
        {
          "output_type": "stream",
          "name": "stdout",
          "text": [
            "\u001b[?25l     \u001b[90m━━━━━━━━━━━━━━━━━━━━━━━━━━━━━━━━━━━━━━━━\u001b[0m \u001b[32m0.0/55.9 KB\u001b[0m \u001b[31m?\u001b[0m eta \u001b[36m-:--:--\u001b[0m\r\u001b[2K     \u001b[90m━━━━━━━━━━━━━━━━━━━━━━━━━━━━━━━━━━━━━━━━\u001b[0m \u001b[32m55.9/55.9 KB\u001b[0m \u001b[31m2.0 MB/s\u001b[0m eta \u001b[36m0:00:00\u001b[0m\n",
            "\u001b[2K     \u001b[90m━━━━━━━━━━━━━━━━━━━━━━━━━━━━━━━━━━━━━━━\u001b[0m \u001b[32m112.2/112.2 KB\u001b[0m \u001b[31m5.1 MB/s\u001b[0m eta \u001b[36m0:00:00\u001b[0m\n",
            "\u001b[2K     \u001b[90m━━━━━━━━━━━━━━━━━━━━━━━━━━━━━━━━━━━━━━━\u001b[0m \u001b[32m111.0/111.0 KB\u001b[0m \u001b[31m3.8 MB/s\u001b[0m eta \u001b[36m0:00:00\u001b[0m\n",
            "\u001b[2K     \u001b[90m━━━━━━━━━━━━━━━━━━━━━━━━━━━━━━━━━━━━━━━━\u001b[0m \u001b[32m62.8/62.8 KB\u001b[0m \u001b[31m2.7 MB/s\u001b[0m eta \u001b[36m0:00:00\u001b[0m\n",
            "\u001b[2K     \u001b[90m━━━━━━━━━━━━━━━━━━━━━━━━━━━━━━━━━━━━━━━\u001b[0m \u001b[32m129.4/129.4 KB\u001b[0m \u001b[31m9.2 MB/s\u001b[0m eta \u001b[36m0:00:00\u001b[0m\n",
            "\u001b[2K     \u001b[90m━━━━━━━━━━━━━━━━━━━━━━━━━━━━━━━━━━━━━━━━\u001b[0m \u001b[32m4.2/4.2 MB\u001b[0m \u001b[31m48.9 MB/s\u001b[0m eta \u001b[36m0:00:00\u001b[0m\n",
            "\u001b[?25h"
          ]
        }
      ]
    },
    {
      "cell_type": "code",
      "source": [
        "# 패키지 임포트\n",
        "import numpy as np\n",
        "import pandas as pd\n",
        "import matplotlib.pyplot as plt\n",
        "import seaborn as sns\n",
        "import yfinance as yf\n",
        "import scipy.optimize as sco"
      ],
      "metadata": {
        "id": "3zGQOZfUUTMe"
      },
      "execution_count": null,
      "outputs": []
    },
    {
      "cell_type": "code",
      "source": [
        "# ETF 데이터 다운로드\n",
        "tickers = ['XLB', 'XLE', 'XLF', 'XLI', 'XLK', 'XLP', 'XLU', 'XLV', 'XLY']\n",
        "\n",
        "etf = yf.Tickers(tickers)\n",
        "\n",
        "data = etf.history(start='2011-01-01', actions=False)\n",
        "\n",
        "data.drop(['Open', 'High', 'Low', 'Volume'], inplace=True, axis=1)\n",
        "\n",
        "data = data.droplevel(0, axis=1)"
      ],
      "metadata": {
        "id": "2ONSNpcrrcjE",
        "colab": {
          "base_uri": "https://localhost:8080/"
        },
        "outputId": "5c1f5e5b-8175-4810-b6b1-5ac178375b55"
      },
      "execution_count": null,
      "outputs": [
        {
          "output_type": "stream",
          "name": "stdout",
          "text": [
            "[*********************100%***********************]  9 of 9 completed\n"
          ]
        }
      ]
    },
    {
      "cell_type": "code",
      "source": [
        "# 수익률\n",
        "rets = data.pct_change().fillna(0)\n",
        "\n",
        "# 수익률 벡터\n",
        "ret_vec = rets.mean() * 252\n",
        "\n",
        "# 공분산 행렬\n",
        "cov_mat = rets.cov() * 252\n"
      ],
      "metadata": {
        "id": "dF4CU4cmrhL_"
      },
      "execution_count": null,
      "outputs": []
    },
    {
      "cell_type": "code",
      "execution_count": null,
      "metadata": {
        "id": "6c_hRxE3T7aR"
      },
      "outputs": [],
      "source": [
        "# 효율적 경계선 리샘플링 함수\n",
        "def resampled_efficient_frontier(ret_vec, cov_mat, size=252, N_path=50, N_point=50, resampling=True):\n",
        "\n",
        "    # 자산 개수\n",
        "    n = len(ret_vec)\n",
        "\n",
        "    if resampling:\n",
        "        # 리샘플링을 위한 시뮬레이션\n",
        "        ret_vec_stack = np.zeros((N_path, len(ret_vec)))\n",
        "        cov_mat_stack = np.zeros((N_path, len(ret_vec), len(ret_vec)))\n",
        "\n",
        "        for i in range(N_path):\n",
        "            # 리샘플링 경로 생성\n",
        "            # 다변량 정규분포로부터 임의의 난수 추출\n",
        "            data = np.random.multivariate_normal(ret_vec, cov_mat, size=size)\n",
        "\n",
        "            # 새롭게 만들어진 기대수익률 벡터\n",
        "            ret_vec_i = data.mean(axis=0)\n",
        "            ret_vec_stack[i, :] = ret_vec_i\n",
        "\n",
        "            # 새롭게 만들어진 공분산 행렬\n",
        "            cov_mat_i = np.cov(data.T)\n",
        "            cov_mat_stack[i, :, :] = cov_mat_i\n",
        "\n",
        "        # 새로 업데이트된 기대수익률 벡터와 공분산 행렬\n",
        "        new_ret_vec = ret_vec_stack.mean(axis=0)\n",
        "        new_cov_mat = cov_mat_stack.mean(axis=0)\n",
        "\n",
        "    else:\n",
        "        new_ret_vec = ret_vec\n",
        "        new_cov_mat = cov_mat\n",
        "\n",
        "\n",
        "    # 목적함수\n",
        "    def obj_func(weights):\n",
        "\n",
        "        # 투자 가중치\n",
        "        weights = np.array(weights)\n",
        "\n",
        "        # 포트폴리오 변동성\n",
        "        pvol = np.sqrt(np.dot(weights.T, np.dot(new_cov_mat, weights)))\n",
        "\n",
        "        return pvol\n",
        "\n",
        "    # 수익률 수준별 포트폴리오 최적화 수행\n",
        "    trets = np.linspace(0.1, 0.15, N_point)\n",
        "    tvols = []\n",
        "\n",
        "    # 난수를 활용해 임의의 가중치 데이터 생성\n",
        "    weights = np.random.random(n)\n",
        "    weights /= np.sum(weights)\n",
        "\n",
        "    # for문을 돌려 각 목표수익률에 맞는 포트폴리오 변동성 레벨을 계산\n",
        "    for tret in trets:\n",
        "\n",
        "        # 투자 가중치 초기값 = 동일가중\n",
        "        init_guess = np.repeat(1/n, n)\n",
        "\n",
        "        # 제약조건 (포트폴리오 목표 수익률, 현금 보유 비중 0)\n",
        "        cons = ({'type': 'eq', 'fun': lambda x: np.array(np.sum(new_ret_vec * x)) - tret},\n",
        "                {'type': 'eq', 'fun': lambda x: np.sum(x) - 1})\n",
        "\n",
        "        # 자산별 경계조건 (숏 포지션 불가능)\n",
        "        bnds = tuple((0.0, 1.0) for x in weights)\n",
        "\n",
        "        # 최적화 알고리즘 수행\n",
        "        res = sco.minimize(obj_func,\n",
        "                           init_guess,\n",
        "                           method='SLSQP',\n",
        "                           bounds=bnds,\n",
        "                           constraints=cons)\n",
        "\n",
        "\n",
        "        # 최적화 알고리즘을 통해 찾아낸 최적 포트폴리오의 변동성 값을 리스트에 저장\n",
        "        tvols.append(res['fun'])\n",
        "\n",
        "    # 포트폴리오 변동성 리스트를 배열로 변환\n",
        "    tvols = np.array(tvols)\n",
        "\n",
        "    # 결과값 반환\n",
        "    return trets, tvols"
      ]
    },
    {
      "cell_type": "code",
      "source": [
        "# 리샘플링 O\n",
        "new_trets, new_tvols = resampled_efficient_frontier(ret_vec, cov_mat)\n",
        "\n",
        "# 리샘플링 X\n",
        "trets, tvols = resampled_efficient_frontier(ret_vec, cov_mat, resampling=False)"
      ],
      "metadata": {
        "id": "tJkX8y9drl5h"
      },
      "execution_count": null,
      "outputs": []
    },
    {
      "cell_type": "code",
      "source": [
        "# 리샘플링 효율적 경계선 시각화\n",
        "plt.figure(figsize=(8, 8))\n",
        "plt.plot(tvols, trets, marker='x', label='Original')\n",
        "plt.plot(new_tvols, new_trets, marker='o', label='Resampled')\n",
        "plt.grid(True)\n",
        "plt.xlabel('Expected Volatility')\n",
        "plt.ylabel('Expected Return')\n",
        "plt.title('Resampled Efficient Frontier')\n",
        "plt.legend()"
      ],
      "metadata": {
        "id": "gIecniGRrxL6",
        "colab": {
          "base_uri": "https://localhost:8080/",
          "height": 530
        },
        "outputId": "50cf20a1-b735-4817-bcca-103c4d428623"
      },
      "execution_count": null,
      "outputs": [
        {
          "output_type": "execute_result",
          "data": {
            "text/plain": [
              "<matplotlib.legend.Legend at 0x7f707594af70>"
            ]
          },
          "metadata": {},
          "execution_count": 7
        },
        {
          "output_type": "display_data",
          "data": {
            "text/plain": [
              "<Figure size 576x576 with 1 Axes>"
            ],
            "image/png": "[encoded data removed]"
          },
          "metadata": {
            "needs_background": "light"
          }
        }
      ]
    },
    {
      "cell_type": "code",
      "source": [],
      "metadata": {
        "id": "IgTLCKmHr2Ae"
      },
      "execution_count": null,
      "outputs": []
    }
  ]
}